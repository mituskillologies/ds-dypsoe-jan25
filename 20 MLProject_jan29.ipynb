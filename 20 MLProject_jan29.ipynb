{
 "cells": [
  {
   "cell_type": "code",
   "execution_count": 1,
   "id": "f7f6e00a-fe6f-44f0-9e17-8303876f94da",
   "metadata": {},
   "outputs": [],
   "source": [
    "# 1 => Rice_Cammeo_Osmancik.xlsx\n",
    "# 2 => Synthetic-Infant-Health-Data.csv\n",
    "# 3 => wine-new.csv"
   ]
  },
  {
   "cell_type": "code",
   "execution_count": 2,
   "id": "62461928-a4da-462b-ab66-028336607445",
   "metadata": {},
   "outputs": [],
   "source": [
    "# steps =>\n",
    "\n",
    "# 1. import data\n",
    "# 2. data cleaning -> inconsistencies, missing values\n",
    "# 3. Exploratory data analysis\n",
    "# 4. Outlier detection and removal\n",
    "# 5. Data balancing / Resampling\n",
    "# 6. feature selection/ dimensionality reduction\n",
    "# 7. Feature scaling\n",
    "# 8. cross validation\n",
    "# 9. Algorithms and hyperpara tuning\n",
    "# 10. model building\n",
    "# 11. predictions\n",
    "# 12. deployment"
   ]
  },
  {
   "cell_type": "code",
   "execution_count": 3,
   "id": "11f85112-babe-4e3c-bff0-2d732b0f532a",
   "metadata": {},
   "outputs": [],
   "source": [
    "import pandas as pd\n",
    "import numpy as np\n",
    "import matplotlib.pyplot as plt\n",
    "import seaborn as sns"
   ]
  },
  {
   "cell_type": "code",
   "execution_count": 4,
   "id": "9bcfa77c-2692-4e67-8abf-d48fda54a88e",
   "metadata": {},
   "outputs": [],
   "source": [
    "# 1 => Rice_Cammeo_Osmancik.xlsx\n",
    "# 2 => Synthetic-Infant-Health-Data.csv\n",
    "# 3 => wine-new.csv"
   ]
  },
  {
   "cell_type": "code",
   "execution_count": 5,
   "id": "0129d83b-b5ff-4e8d-af36-15d94127d629",
   "metadata": {},
   "outputs": [
    {
     "data": {
      "text/html": [
       "<div>\n",
       "<style scoped>\n",
       "    .dataframe tbody tr th:only-of-type {\n",
       "        vertical-align: middle;\n",
       "    }\n",
       "\n",
       "    .dataframe tbody tr th {\n",
       "        vertical-align: top;\n",
       "    }\n",
       "\n",
       "    .dataframe thead th {\n",
       "        text-align: right;\n",
       "    }\n",
       "</style>\n",
       "<table border=\"1\" class=\"dataframe\">\n",
       "  <thead>\n",
       "    <tr style=\"text-align: right;\">\n",
       "      <th></th>\n",
       "      <th>COLOR_INTENSITY</th>\n",
       "      <th>SHAPE</th>\n",
       "      <th>RIPENESS_PER</th>\n",
       "      <th>ALCOHOL_PER</th>\n",
       "      <th>MALIC_ACID_PER</th>\n",
       "      <th>ASH</th>\n",
       "      <th>ALCALINITY_OF_ASH</th>\n",
       "      <th>MAGNESIUM_MEASURE</th>\n",
       "      <th>TOTAL_PHENOLS</th>\n",
       "      <th>FLAVANOIDS</th>\n",
       "      <th>...</th>\n",
       "      <th>HUE</th>\n",
       "      <th>PROLINE</th>\n",
       "      <th>TEMPERATURE</th>\n",
       "      <th>AVG_HUMIDITY</th>\n",
       "      <th>FERT_NITRO_PER</th>\n",
       "      <th>WATER_O2_PER</th>\n",
       "      <th>WATER_PH</th>\n",
       "      <th>FER_P2O5_PER</th>\n",
       "      <th>SOIL_TYPE</th>\n",
       "      <th>CLASS</th>\n",
       "    </tr>\n",
       "  </thead>\n",
       "  <tbody>\n",
       "    <tr>\n",
       "      <th>0</th>\n",
       "      <td>120.53</td>\n",
       "      <td>elliptical</td>\n",
       "      <td>16.73</td>\n",
       "      <td>14.23</td>\n",
       "      <td>1.71</td>\n",
       "      <td>2.43</td>\n",
       "      <td>15.6</td>\n",
       "      <td>127</td>\n",
       "      <td>2.80</td>\n",
       "      <td>3.06</td>\n",
       "      <td>...</td>\n",
       "      <td>1.04</td>\n",
       "      <td>1065</td>\n",
       "      <td>23.34</td>\n",
       "      <td>54.99</td>\n",
       "      <td>31.21</td>\n",
       "      <td>97.67</td>\n",
       "      <td>7.71</td>\n",
       "      <td>52.02</td>\n",
       "      <td>archean</td>\n",
       "      <td>High</td>\n",
       "    </tr>\n",
       "    <tr>\n",
       "      <th>1</th>\n",
       "      <td>112.57</td>\n",
       "      <td>elliptical</td>\n",
       "      <td>20.30</td>\n",
       "      <td>13.20</td>\n",
       "      <td>1.78</td>\n",
       "      <td>2.14</td>\n",
       "      <td>11.2</td>\n",
       "      <td>100</td>\n",
       "      <td>2.65</td>\n",
       "      <td>2.76</td>\n",
       "      <td>...</td>\n",
       "      <td>1.05</td>\n",
       "      <td>1050</td>\n",
       "      <td>23.40</td>\n",
       "      <td>51.91</td>\n",
       "      <td>31.28</td>\n",
       "      <td>99.05</td>\n",
       "      <td>7.66</td>\n",
       "      <td>48.18</td>\n",
       "      <td>archean</td>\n",
       "      <td>High</td>\n",
       "    </tr>\n",
       "    <tr>\n",
       "      <th>2</th>\n",
       "      <td>120.78</td>\n",
       "      <td>elliptical</td>\n",
       "      <td>20.81</td>\n",
       "      <td>13.16</td>\n",
       "      <td>2.36</td>\n",
       "      <td>2.67</td>\n",
       "      <td>18.6</td>\n",
       "      <td>101</td>\n",
       "      <td>2.80</td>\n",
       "      <td>3.24</td>\n",
       "      <td>...</td>\n",
       "      <td>1.03</td>\n",
       "      <td>1185</td>\n",
       "      <td>22.29</td>\n",
       "      <td>50.69</td>\n",
       "      <td>31.92</td>\n",
       "      <td>97.95</td>\n",
       "      <td>7.66</td>\n",
       "      <td>28.15</td>\n",
       "      <td>archean</td>\n",
       "      <td>High</td>\n",
       "    </tr>\n",
       "    <tr>\n",
       "      <th>3</th>\n",
       "      <td>134.17</td>\n",
       "      <td>elliptical</td>\n",
       "      <td>19.47</td>\n",
       "      <td>14.37</td>\n",
       "      <td>1.95</td>\n",
       "      <td>2.50</td>\n",
       "      <td>16.8</td>\n",
       "      <td>113</td>\n",
       "      <td>3.85</td>\n",
       "      <td>3.49</td>\n",
       "      <td>...</td>\n",
       "      <td>0.86</td>\n",
       "      <td>1480</td>\n",
       "      <td>21.28</td>\n",
       "      <td>47.72</td>\n",
       "      <td>31.79</td>\n",
       "      <td>95.46</td>\n",
       "      <td>7.21</td>\n",
       "      <td>55.95</td>\n",
       "      <td>alluvial</td>\n",
       "      <td>High</td>\n",
       "    </tr>\n",
       "    <tr>\n",
       "      <th>4</th>\n",
       "      <td>112.19</td>\n",
       "      <td>round</td>\n",
       "      <td>17.57</td>\n",
       "      <td>13.24</td>\n",
       "      <td>2.59</td>\n",
       "      <td>2.87</td>\n",
       "      <td>21.0</td>\n",
       "      <td>118</td>\n",
       "      <td>2.80</td>\n",
       "      <td>2.69</td>\n",
       "      <td>...</td>\n",
       "      <td>1.04</td>\n",
       "      <td>735</td>\n",
       "      <td>23.76</td>\n",
       "      <td>45.09</td>\n",
       "      <td>31.86</td>\n",
       "      <td>94.45</td>\n",
       "      <td>7.80</td>\n",
       "      <td>55.99</td>\n",
       "      <td>archean</td>\n",
       "      <td>High</td>\n",
       "    </tr>\n",
       "  </tbody>\n",
       "</table>\n",
       "<p>5 rows × 21 columns</p>\n",
       "</div>"
      ],
      "text/plain": [
       "   COLOR_INTENSITY       SHAPE  RIPENESS_PER  ALCOHOL_PER  MALIC_ACID_PER  \\\n",
       "0           120.53  elliptical         16.73        14.23            1.71   \n",
       "1           112.57  elliptical         20.30        13.20            1.78   \n",
       "2           120.78  elliptical         20.81        13.16            2.36   \n",
       "3           134.17  elliptical         19.47        14.37            1.95   \n",
       "4           112.19       round         17.57        13.24            2.59   \n",
       "\n",
       "    ASH  ALCALINITY_OF_ASH  MAGNESIUM_MEASURE  TOTAL_PHENOLS  FLAVANOIDS  ...  \\\n",
       "0  2.43               15.6                127           2.80        3.06  ...   \n",
       "1  2.14               11.2                100           2.65        2.76  ...   \n",
       "2  2.67               18.6                101           2.80        3.24  ...   \n",
       "3  2.50               16.8                113           3.85        3.49  ...   \n",
       "4  2.87               21.0                118           2.80        2.69  ...   \n",
       "\n",
       "    HUE  PROLINE  TEMPERATURE  AVG_HUMIDITY  FERT_NITRO_PER  WATER_O2_PER  \\\n",
       "0  1.04     1065        23.34         54.99           31.21         97.67   \n",
       "1  1.05     1050        23.40         51.91           31.28         99.05   \n",
       "2  1.03     1185        22.29         50.69           31.92         97.95   \n",
       "3  0.86     1480        21.28         47.72           31.79         95.46   \n",
       "4  1.04      735        23.76         45.09           31.86         94.45   \n",
       "\n",
       "   WATER_PH  FER_P2O5_PER  SOIL_TYPE CLASS  \n",
       "0      7.71         52.02    archean  High  \n",
       "1      7.66         48.18    archean  High  \n",
       "2      7.66         28.15    archean  High  \n",
       "3      7.21         55.95   alluvial  High  \n",
       "4      7.80         55.99    archean  High  \n",
       "\n",
       "[5 rows x 21 columns]"
      ]
     },
     "execution_count": 5,
     "metadata": {},
     "output_type": "execute_result"
    }
   ],
   "source": [
    "df = pd.read_csv('grapes_new.csv')\n",
    "df.head()"
   ]
  },
  {
   "cell_type": "code",
   "execution_count": 6,
   "id": "e9a3bb45-31a2-43c2-9501-6d8c95728a86",
   "metadata": {},
   "outputs": [
    {
     "data": {
      "text/plain": [
       "(194, 21)"
      ]
     },
     "execution_count": 6,
     "metadata": {},
     "output_type": "execute_result"
    }
   ],
   "source": [
    "df.shape"
   ]
  },
  {
   "cell_type": "markdown",
   "id": "c0bcf195-f4bc-4a30-9e9a-892f79818b61",
   "metadata": {},
   "source": [
    "## Data Cleaning"
   ]
  },
  {
   "cell_type": "code",
   "execution_count": 8,
   "id": "b283d7b8-b891-49d9-af5c-9241826d5e11",
   "metadata": {},
   "outputs": [
    {
     "data": {
      "text/plain": [
       "Index(['COLOR_INTENSITY', 'SHAPE', 'RIPENESS_PER', 'ALCOHOL_PER',\n",
       "       'MALIC_ACID_PER', 'ASH', 'ALCALINITY_OF_ASH', 'MAGNESIUM_MEASURE',\n",
       "       'TOTAL_PHENOLS', 'FLAVANOIDS', 'PROANTHOCYANINS', 'HUE', 'PROLINE',\n",
       "       'TEMPERATURE', 'AVG_HUMIDITY', 'FERT_NITRO_PER', 'WATER_O2_PER',\n",
       "       'WATER_PH', 'FER_P2O5_PER', 'SOIL_TYPE', 'CLASS'],\n",
       "      dtype='object')"
      ]
     },
     "execution_count": 8,
     "metadata": {},
     "output_type": "execute_result"
    }
   ],
   "source": [
    "df.columns"
   ]
  },
  {
   "cell_type": "code",
   "execution_count": 9,
   "id": "0ebb6017-b192-4631-ae65-1e2535ccc1f5",
   "metadata": {},
   "outputs": [],
   "source": [
    "df.columns = df.columns.str.strip()"
   ]
  },
  {
   "cell_type": "code",
   "execution_count": 10,
   "id": "7b40c120-09f4-4b77-a857-b0c06b5e7498",
   "metadata": {},
   "outputs": [
    {
     "name": "stdout",
     "output_type": "stream",
     "text": [
      "<class 'pandas.core.frame.DataFrame'>\n",
      "RangeIndex: 194 entries, 0 to 193\n",
      "Data columns (total 21 columns):\n",
      " #   Column             Non-Null Count  Dtype  \n",
      "---  ------             --------------  -----  \n",
      " 0   COLOR_INTENSITY    194 non-null    float64\n",
      " 1   SHAPE              194 non-null    object \n",
      " 2   RIPENESS_PER       192 non-null    float64\n",
      " 3   ALCOHOL_PER        191 non-null    float64\n",
      " 4   MALIC_ACID_PER     194 non-null    float64\n",
      " 5   ASH                194 non-null    float64\n",
      " 6   ALCALINITY_OF_ASH  188 non-null    float64\n",
      " 7   MAGNESIUM_MEASURE  194 non-null    int64  \n",
      " 8   TOTAL_PHENOLS      194 non-null    float64\n",
      " 9   FLAVANOIDS         194 non-null    float64\n",
      " 10  PROANTHOCYANINS    194 non-null    float64\n",
      " 11  HUE                192 non-null    float64\n",
      " 12  PROLINE            194 non-null    int64  \n",
      " 13  TEMPERATURE        194 non-null    float64\n",
      " 14  AVG_HUMIDITY       194 non-null    float64\n",
      " 15  FERT_NITRO_PER     194 non-null    float64\n",
      " 16  WATER_O2_PER       190 non-null    float64\n",
      " 17  WATER_PH           194 non-null    float64\n",
      " 18  FER_P2O5_PER       194 non-null    float64\n",
      " 19  SOIL_TYPE          194 non-null    object \n",
      " 20  CLASS              194 non-null    object \n",
      "dtypes: float64(16), int64(2), object(3)\n",
      "memory usage: 32.0+ KB\n"
     ]
    }
   ],
   "source": [
    "df.info()"
   ]
  },
  {
   "cell_type": "code",
   "execution_count": 11,
   "id": "1c191011-4f89-4007-b945-6c2cfb9ea3cd",
   "metadata": {},
   "outputs": [
    {
     "data": {
      "text/plain": [
       "COLOR_INTENSITY      0\n",
       "SHAPE                0\n",
       "RIPENESS_PER         2\n",
       "ALCOHOL_PER          3\n",
       "MALIC_ACID_PER       0\n",
       "ASH                  0\n",
       "ALCALINITY_OF_ASH    6\n",
       "MAGNESIUM_MEASURE    0\n",
       "TOTAL_PHENOLS        0\n",
       "FLAVANOIDS           0\n",
       "PROANTHOCYANINS      0\n",
       "HUE                  2\n",
       "PROLINE              0\n",
       "TEMPERATURE          0\n",
       "AVG_HUMIDITY         0\n",
       "FERT_NITRO_PER       0\n",
       "WATER_O2_PER         4\n",
       "WATER_PH             0\n",
       "FER_P2O5_PER         0\n",
       "SOIL_TYPE            0\n",
       "CLASS                0\n",
       "dtype: int64"
      ]
     },
     "execution_count": 11,
     "metadata": {},
     "output_type": "execute_result"
    }
   ],
   "source": [
    "df.isna().sum()"
   ]
  },
  {
   "cell_type": "code",
   "execution_count": 12,
   "id": "acee2d5c-d812-4fdb-8973-012dcb7fa88c",
   "metadata": {},
   "outputs": [],
   "source": [
    "df.ffill(inplace=True)"
   ]
  },
  {
   "cell_type": "code",
   "execution_count": 13,
   "id": "96c004b7-1224-48d7-8714-9bb904ea6e0a",
   "metadata": {},
   "outputs": [
    {
     "data": {
      "text/plain": [
       "COLOR_INTENSITY      0\n",
       "SHAPE                0\n",
       "RIPENESS_PER         0\n",
       "ALCOHOL_PER          0\n",
       "MALIC_ACID_PER       0\n",
       "ASH                  0\n",
       "ALCALINITY_OF_ASH    0\n",
       "MAGNESIUM_MEASURE    0\n",
       "TOTAL_PHENOLS        0\n",
       "FLAVANOIDS           0\n",
       "PROANTHOCYANINS      0\n",
       "HUE                  0\n",
       "PROLINE              0\n",
       "TEMPERATURE          0\n",
       "AVG_HUMIDITY         0\n",
       "FERT_NITRO_PER       0\n",
       "WATER_O2_PER         0\n",
       "WATER_PH             0\n",
       "FER_P2O5_PER         0\n",
       "SOIL_TYPE            0\n",
       "CLASS                0\n",
       "dtype: int64"
      ]
     },
     "execution_count": 13,
     "metadata": {},
     "output_type": "execute_result"
    }
   ],
   "source": [
    "df.isnull().sum()"
   ]
  },
  {
   "cell_type": "code",
   "execution_count": 14,
   "id": "646b1c7c-5d2f-4b69-90bc-c394e1356d6b",
   "metadata": {},
   "outputs": [],
   "source": [
    "# separate input and output"
   ]
  },
  {
   "cell_type": "code",
   "execution_count": 15,
   "id": "90c78e73-373a-4703-a41e-79c972a9c228",
   "metadata": {},
   "outputs": [],
   "source": [
    "x = df.drop('CLASS', axis = 1)\n",
    "y = df['CLASS']"
   ]
  },
  {
   "cell_type": "markdown",
   "id": "668cb95f-a51d-463b-bbd3-39a04472d48c",
   "metadata": {},
   "source": [
    "## EDA"
   ]
  },
  {
   "cell_type": "code",
   "execution_count": 17,
   "id": "b0d5ec58-38d5-40bb-8685-3590fcae5fd2",
   "metadata": {},
   "outputs": [
    {
     "data": {
      "text/html": [
       "<div>\n",
       "<style scoped>\n",
       "    .dataframe tbody tr th:only-of-type {\n",
       "        vertical-align: middle;\n",
       "    }\n",
       "\n",
       "    .dataframe tbody tr th {\n",
       "        vertical-align: top;\n",
       "    }\n",
       "\n",
       "    .dataframe thead th {\n",
       "        text-align: right;\n",
       "    }\n",
       "</style>\n",
       "<table border=\"1\" class=\"dataframe\">\n",
       "  <thead>\n",
       "    <tr style=\"text-align: right;\">\n",
       "      <th></th>\n",
       "      <th>COLOR_INTENSITY</th>\n",
       "      <th>RIPENESS_PER</th>\n",
       "      <th>ALCOHOL_PER</th>\n",
       "      <th>MALIC_ACID_PER</th>\n",
       "      <th>ASH</th>\n",
       "      <th>ALCALINITY_OF_ASH</th>\n",
       "      <th>MAGNESIUM_MEASURE</th>\n",
       "      <th>TOTAL_PHENOLS</th>\n",
       "      <th>FLAVANOIDS</th>\n",
       "      <th>PROANTHOCYANINS</th>\n",
       "      <th>HUE</th>\n",
       "      <th>PROLINE</th>\n",
       "      <th>TEMPERATURE</th>\n",
       "      <th>AVG_HUMIDITY</th>\n",
       "      <th>FERT_NITRO_PER</th>\n",
       "      <th>WATER_O2_PER</th>\n",
       "      <th>WATER_PH</th>\n",
       "      <th>FER_P2O5_PER</th>\n",
       "    </tr>\n",
       "  </thead>\n",
       "  <tbody>\n",
       "    <tr>\n",
       "      <th>count</th>\n",
       "      <td>194.000000</td>\n",
       "      <td>194.000000</td>\n",
       "      <td>194.000000</td>\n",
       "      <td>194.000000</td>\n",
       "      <td>194.000000</td>\n",
       "      <td>194.000000</td>\n",
       "      <td>194.000000</td>\n",
       "      <td>194.000000</td>\n",
       "      <td>194.000000</td>\n",
       "      <td>194.000000</td>\n",
       "      <td>194.000000</td>\n",
       "      <td>194.000000</td>\n",
       "      <td>194.000000</td>\n",
       "      <td>194.000000</td>\n",
       "      <td>194.000000</td>\n",
       "      <td>194.000000</td>\n",
       "      <td>194.000000</td>\n",
       "      <td>194.000000</td>\n",
       "    </tr>\n",
       "    <tr>\n",
       "      <th>mean</th>\n",
       "      <td>116.882113</td>\n",
       "      <td>21.508557</td>\n",
       "      <td>13.038454</td>\n",
       "      <td>2.335103</td>\n",
       "      <td>2.365361</td>\n",
       "      <td>19.570619</td>\n",
       "      <td>99.680412</td>\n",
       "      <td>2.296649</td>\n",
       "      <td>2.016856</td>\n",
       "      <td>1.577216</td>\n",
       "      <td>0.956866</td>\n",
       "      <td>754.164948</td>\n",
       "      <td>26.418247</td>\n",
       "      <td>50.976082</td>\n",
       "      <td>30.562216</td>\n",
       "      <td>90.349381</td>\n",
       "      <td>7.680979</td>\n",
       "      <td>42.195155</td>\n",
       "    </tr>\n",
       "    <tr>\n",
       "      <th>std</th>\n",
       "      <td>14.333204</td>\n",
       "      <td>2.374497</td>\n",
       "      <td>0.815124</td>\n",
       "      <td>1.118041</td>\n",
       "      <td>0.268158</td>\n",
       "      <td>3.441775</td>\n",
       "      <td>14.252749</td>\n",
       "      <td>0.634317</td>\n",
       "      <td>1.001351</td>\n",
       "      <td>0.565445</td>\n",
       "      <td>0.227370</td>\n",
       "      <td>316.093797</td>\n",
       "      <td>3.042364</td>\n",
       "      <td>3.367880</td>\n",
       "      <td>1.126867</td>\n",
       "      <td>5.438735</td>\n",
       "      <td>0.509935</td>\n",
       "      <td>10.398205</td>\n",
       "    </tr>\n",
       "    <tr>\n",
       "      <th>min</th>\n",
       "      <td>93.000000</td>\n",
       "      <td>16.170000</td>\n",
       "      <td>11.030000</td>\n",
       "      <td>0.740000</td>\n",
       "      <td>1.360000</td>\n",
       "      <td>10.600000</td>\n",
       "      <td>70.000000</td>\n",
       "      <td>0.980000</td>\n",
       "      <td>0.340000</td>\n",
       "      <td>0.410000</td>\n",
       "      <td>0.480000</td>\n",
       "      <td>278.000000</td>\n",
       "      <td>21.020000</td>\n",
       "      <td>44.230000</td>\n",
       "      <td>27.670000</td>\n",
       "      <td>80.360000</td>\n",
       "      <td>6.510000</td>\n",
       "      <td>20.000000</td>\n",
       "    </tr>\n",
       "    <tr>\n",
       "      <th>25%</th>\n",
       "      <td>105.470000</td>\n",
       "      <td>20.372500</td>\n",
       "      <td>12.370000</td>\n",
       "      <td>1.610000</td>\n",
       "      <td>2.210000</td>\n",
       "      <td>17.200000</td>\n",
       "      <td>88.000000</td>\n",
       "      <td>1.725000</td>\n",
       "      <td>1.092500</td>\n",
       "      <td>1.225000</td>\n",
       "      <td>0.790000</td>\n",
       "      <td>504.000000</td>\n",
       "      <td>24.222500</td>\n",
       "      <td>48.360000</td>\n",
       "      <td>29.932500</td>\n",
       "      <td>85.862500</td>\n",
       "      <td>7.252500</td>\n",
       "      <td>33.742500</td>\n",
       "    </tr>\n",
       "    <tr>\n",
       "      <th>50%</th>\n",
       "      <td>114.910000</td>\n",
       "      <td>21.800000</td>\n",
       "      <td>13.050000</td>\n",
       "      <td>1.865000</td>\n",
       "      <td>2.360000</td>\n",
       "      <td>19.500000</td>\n",
       "      <td>97.500000</td>\n",
       "      <td>2.355000</td>\n",
       "      <td>2.135000</td>\n",
       "      <td>1.545000</td>\n",
       "      <td>0.980000</td>\n",
       "      <td>675.000000</td>\n",
       "      <td>26.195000</td>\n",
       "      <td>51.145000</td>\n",
       "      <td>30.710000</td>\n",
       "      <td>90.550000</td>\n",
       "      <td>7.670000</td>\n",
       "      <td>44.820000</td>\n",
       "    </tr>\n",
       "    <tr>\n",
       "      <th>75%</th>\n",
       "      <td>124.060000</td>\n",
       "      <td>23.317500</td>\n",
       "      <td>13.705000</td>\n",
       "      <td>3.082500</td>\n",
       "      <td>2.547500</td>\n",
       "      <td>21.500000</td>\n",
       "      <td>107.000000</td>\n",
       "      <td>2.800000</td>\n",
       "      <td>2.875000</td>\n",
       "      <td>1.950000</td>\n",
       "      <td>1.117500</td>\n",
       "      <td>988.750000</td>\n",
       "      <td>28.737500</td>\n",
       "      <td>53.722500</td>\n",
       "      <td>31.382500</td>\n",
       "      <td>94.897500</td>\n",
       "      <td>8.127500</td>\n",
       "      <td>50.542500</td>\n",
       "    </tr>\n",
       "    <tr>\n",
       "      <th>max</th>\n",
       "      <td>167.000000</td>\n",
       "      <td>25.200000</td>\n",
       "      <td>14.830000</td>\n",
       "      <td>5.800000</td>\n",
       "      <td>3.230000</td>\n",
       "      <td>30.000000</td>\n",
       "      <td>162.000000</td>\n",
       "      <td>3.880000</td>\n",
       "      <td>5.080000</td>\n",
       "      <td>3.580000</td>\n",
       "      <td>1.710000</td>\n",
       "      <td>1680.000000</td>\n",
       "      <td>32.340000</td>\n",
       "      <td>57.950000</td>\n",
       "      <td>34.160000</td>\n",
       "      <td>99.770000</td>\n",
       "      <td>8.500000</td>\n",
       "      <td>60.870000</td>\n",
       "    </tr>\n",
       "  </tbody>\n",
       "</table>\n",
       "</div>"
      ],
      "text/plain": [
       "       COLOR_INTENSITY  RIPENESS_PER  ALCOHOL_PER  MALIC_ACID_PER         ASH  \\\n",
       "count       194.000000    194.000000   194.000000      194.000000  194.000000   \n",
       "mean        116.882113     21.508557    13.038454        2.335103    2.365361   \n",
       "std          14.333204      2.374497     0.815124        1.118041    0.268158   \n",
       "min          93.000000     16.170000    11.030000        0.740000    1.360000   \n",
       "25%         105.470000     20.372500    12.370000        1.610000    2.210000   \n",
       "50%         114.910000     21.800000    13.050000        1.865000    2.360000   \n",
       "75%         124.060000     23.317500    13.705000        3.082500    2.547500   \n",
       "max         167.000000     25.200000    14.830000        5.800000    3.230000   \n",
       "\n",
       "       ALCALINITY_OF_ASH  MAGNESIUM_MEASURE  TOTAL_PHENOLS  FLAVANOIDS  \\\n",
       "count         194.000000         194.000000     194.000000  194.000000   \n",
       "mean           19.570619          99.680412       2.296649    2.016856   \n",
       "std             3.441775          14.252749       0.634317    1.001351   \n",
       "min            10.600000          70.000000       0.980000    0.340000   \n",
       "25%            17.200000          88.000000       1.725000    1.092500   \n",
       "50%            19.500000          97.500000       2.355000    2.135000   \n",
       "75%            21.500000         107.000000       2.800000    2.875000   \n",
       "max            30.000000         162.000000       3.880000    5.080000   \n",
       "\n",
       "       PROANTHOCYANINS         HUE      PROLINE  TEMPERATURE  AVG_HUMIDITY  \\\n",
       "count       194.000000  194.000000   194.000000   194.000000    194.000000   \n",
       "mean          1.577216    0.956866   754.164948    26.418247     50.976082   \n",
       "std           0.565445    0.227370   316.093797     3.042364      3.367880   \n",
       "min           0.410000    0.480000   278.000000    21.020000     44.230000   \n",
       "25%           1.225000    0.790000   504.000000    24.222500     48.360000   \n",
       "50%           1.545000    0.980000   675.000000    26.195000     51.145000   \n",
       "75%           1.950000    1.117500   988.750000    28.737500     53.722500   \n",
       "max           3.580000    1.710000  1680.000000    32.340000     57.950000   \n",
       "\n",
       "       FERT_NITRO_PER  WATER_O2_PER    WATER_PH  FER_P2O5_PER  \n",
       "count      194.000000    194.000000  194.000000    194.000000  \n",
       "mean        30.562216     90.349381    7.680979     42.195155  \n",
       "std          1.126867      5.438735    0.509935     10.398205  \n",
       "min         27.670000     80.360000    6.510000     20.000000  \n",
       "25%         29.932500     85.862500    7.252500     33.742500  \n",
       "50%         30.710000     90.550000    7.670000     44.820000  \n",
       "75%         31.382500     94.897500    8.127500     50.542500  \n",
       "max         34.160000     99.770000    8.500000     60.870000  "
      ]
     },
     "execution_count": 17,
     "metadata": {},
     "output_type": "execute_result"
    }
   ],
   "source": [
    "x.describe()"
   ]
  },
  {
   "cell_type": "code",
   "execution_count": 18,
   "id": "490b9ec6-47af-4200-a9ce-ff32ba55eba6",
   "metadata": {},
   "outputs": [
    {
     "data": {
      "text/plain": [
       "(194, 20)"
      ]
     },
     "execution_count": 18,
     "metadata": {},
     "output_type": "execute_result"
    }
   ],
   "source": [
    "x.shape"
   ]
  },
  {
   "cell_type": "code",
   "execution_count": 19,
   "id": "8e678b3d-cb0d-46d7-a57a-33fdf78fc141",
   "metadata": {},
   "outputs": [],
   "source": [
    "one = df.iloc[:, :4]\n",
    "one['CLASS'] = y\n",
    "two = df.iloc[:, 4:8]\n",
    "two['CLASS'] = y\n",
    "three = df.iloc[:, 8:12]\n",
    "three['CLASS'] = y\n",
    "four = df.iloc[:, 12:16]\n",
    "four['CLASS'] = y\n",
    "five = df.iloc[:, 16:20]\n",
    "five['CLASS'] = y"
   ]
  },
  {
   "cell_type": "code",
   "execution_count": 20,
   "id": "8cdc8154-f0f5-40f4-8abd-a3a675701e90",
   "metadata": {},
   "outputs": [
    {
     "data": {
      "image/png": "[encoded data removed]",
      "text/plain": [
       "<Figure size 855.5x750 with 12 Axes>"
      ]
     },
     "metadata": {},
     "output_type": "display_data"
    }
   ],
   "source": [
    "sns.pairplot(one, hue = 'CLASS');"
   ]
  },
  {
   "cell_type": "code",
   "execution_count": 21,
   "id": "9e77bdf5-f04b-469b-a0c2-bbb9efa6afdd",
   "metadata": {},
   "outputs": [
    {
     "data": {
      "image/png": "[encoded data removed]",
      "text/plain": [
       "<Figure size 640x480 with 1 Axes>"
      ]
     },
     "metadata": {},
     "output_type": "display_data"
    }
   ],
   "source": [
    "# check for data balance\n",
    "\n",
    "sns.countplot(x = y);"
   ]
  },
  {
   "cell_type": "markdown",
   "id": "9f9abb21-29fa-48ac-86ae-cfe4e64e080a",
   "metadata": {},
   "source": [
    "## Outlier Detection and Removal"
   ]
  },
  {
   "cell_type": "code",
   "execution_count": 23,
   "id": "42153d8f-9b5f-4af3-8443-49d76db96eba",
   "metadata": {},
   "outputs": [
    {
     "data": {
      "text/plain": [
       "COLOR_INTENSITY      float64\n",
       "SHAPE                 object\n",
       "RIPENESS_PER         float64\n",
       "ALCOHOL_PER          float64\n",
       "MALIC_ACID_PER       float64\n",
       "ASH                  float64\n",
       "ALCALINITY_OF_ASH    float64\n",
       "MAGNESIUM_MEASURE      int64\n",
       "TOTAL_PHENOLS        float64\n",
       "FLAVANOIDS           float64\n",
       "PROANTHOCYANINS      float64\n",
       "HUE                  float64\n",
       "PROLINE                int64\n",
       "TEMPERATURE          float64\n",
       "AVG_HUMIDITY         float64\n",
       "FERT_NITRO_PER       float64\n",
       "WATER_O2_PER         float64\n",
       "WATER_PH             float64\n",
       "FER_P2O5_PER         float64\n",
       "SOIL_TYPE             object\n",
       "dtype: object"
      ]
     },
     "execution_count": 23,
     "metadata": {},
     "output_type": "execute_result"
    }
   ],
   "source": [
    "x.dtypes"
   ]
  },
  {
   "cell_type": "code",
   "execution_count": 24,
   "id": "08cb1d3e-d7ff-4a5c-b254-7cc2f9994acb",
   "metadata": {},
   "outputs": [],
   "source": [
    "# one hot enode\n",
    "\n",
    "x = pd.get_dummies(x, drop_first= True)"
   ]
  },
  {
   "cell_type": "code",
   "execution_count": 25,
   "id": "894df760-c824-4d0f-b552-f164563c7c18",
   "metadata": {},
   "outputs": [],
   "source": [
    "col_order_ohe = x.columns.tolist()"
   ]
  },
  {
   "cell_type": "code",
   "execution_count": 26,
   "id": "6c0edfe6-dc36-4a00-93e4-946a4a6fbc61",
   "metadata": {},
   "outputs": [],
   "source": [
    "col_order_ohe;"
   ]
  },
  {
   "cell_type": "code",
   "execution_count": 27,
   "id": "bac8d202-99c9-4a48-b544-93bdcc4e2483",
   "metadata": {},
   "outputs": [],
   "source": [
    "# isolation forest for outlier removal"
   ]
  },
  {
   "cell_type": "code",
   "execution_count": 28,
   "id": "67f404b4-b61a-4a7a-aca0-960825856d10",
   "metadata": {},
   "outputs": [],
   "source": [
    "from sklearn.ensemble import IsolationForest\n",
    "\n",
    "iso = IsolationForest(contamination= 0.05, random_state= 0)"
   ]
  },
  {
   "cell_type": "code",
   "execution_count": 29,
   "id": "9f611b0f-6ae4-4450-96b0-696376007e9c",
   "metadata": {},
   "outputs": [],
   "source": [
    "clean = iso.fit_predict(x)"
   ]
  },
  {
   "cell_type": "code",
   "execution_count": 30,
   "id": "b22f7c4c-e452-4766-9122-44ab460e4cb8",
   "metadata": {},
   "outputs": [
    {
     "data": {
      "text/plain": [
       "array([ 1,  1,  1, -1,  1,  1,  1,  1,  1,  1,  1,  1,  1,  1,  1,  1,  1,\n",
       "        1,  1,  1,  1,  1,  1,  1,  1,  1,  1,  1,  1,  1,  1,  1,  1,  1,\n",
       "        1,  1,  1,  1,  1,  1,  1,  1,  1,  1,  1,  1,  1,  1,  1,  1,  1,\n",
       "        1,  1,  1,  1,  1,  1,  1,  1,  1,  1,  1,  1,  1,  1,  1,  1,  1,\n",
       "        1,  1,  1,  1,  1,  1,  1,  1,  1,  1,  1,  1,  1,  1,  1, -1,  1,\n",
       "        1, -1,  1,  1,  1,  1,  1,  1,  1,  1,  1,  1,  1, -1, -1,  1,  1,\n",
       "        1,  1,  1,  1,  1,  1,  1, -1,  1,  1,  1,  1,  1,  1,  1,  1,  1,\n",
       "        1,  1,  1,  1,  1,  1,  1,  1,  1,  1,  1,  1,  1, -1,  1,  1,  1,\n",
       "        1,  1,  1,  1,  1,  1,  1,  1,  1,  1,  1,  1,  1,  1,  1,  1,  1,\n",
       "        1,  1,  1,  1,  1,  1,  1,  1,  1,  1,  1,  1,  1,  1,  1,  1, -1,\n",
       "        1,  1,  1,  1,  1,  1,  1,  1,  1,  1, -1,  1,  1,  1,  1,  1,  1,\n",
       "        1, -1,  1,  1,  1,  1,  1])"
      ]
     },
     "execution_count": 30,
     "metadata": {},
     "output_type": "execute_result"
    }
   ],
   "source": [
    "clean"
   ]
  },
  {
   "cell_type": "code",
   "execution_count": 31,
   "id": "6ca63236-c3c0-4ab3-8805-c8b00434c7f3",
   "metadata": {},
   "outputs": [],
   "source": [
    "x = x[clean == 1]\n",
    "y = y[clean == 1]"
   ]
  },
  {
   "cell_type": "code",
   "execution_count": 32,
   "id": "3ef10cd2-7a34-413d-8a04-80d589be9831",
   "metadata": {},
   "outputs": [
    {
     "data": {
      "text/plain": [
       "(184, 20)"
      ]
     },
     "execution_count": 32,
     "metadata": {},
     "output_type": "execute_result"
    }
   ],
   "source": [
    "x.shape"
   ]
  },
  {
   "cell_type": "markdown",
   "id": "44d575f4-bc1c-41c1-89cb-a1e840e6aaca",
   "metadata": {},
   "source": [
    "## Sampling (over sampling)"
   ]
  },
  {
   "cell_type": "code",
   "execution_count": 34,
   "id": "02b5ea00-689a-409b-9cf0-4ae6e87c6acb",
   "metadata": {},
   "outputs": [
    {
     "data": {
      "text/plain": [
       "(184,)"
      ]
     },
     "execution_count": 34,
     "metadata": {},
     "output_type": "execute_result"
    }
   ],
   "source": [
    "y.shape"
   ]
  },
  {
   "cell_type": "code",
   "execution_count": 35,
   "id": "04eeb221-6738-4ebe-9750-fc58548e4b10",
   "metadata": {},
   "outputs": [
    {
     "data": {
      "text/plain": [
       "CLASS\n",
       "Medium    72\n",
       "High      63\n",
       "Low       49\n",
       "Name: count, dtype: int64"
      ]
     },
     "execution_count": 35,
     "metadata": {},
     "output_type": "execute_result"
    }
   ],
   "source": [
    "y.value_counts()"
   ]
  },
  {
   "cell_type": "code",
   "execution_count": 36,
   "id": "dba1c42f-9ec2-4868-905b-f099417cfa13",
   "metadata": {},
   "outputs": [],
   "source": [
    "# imbalanced-learn"
   ]
  },
  {
   "cell_type": "code",
   "execution_count": 37,
   "id": "127b4f8a-975e-4527-a677-048460963f69",
   "metadata": {},
   "outputs": [],
   "source": [
    "from imblearn.over_sampling import SMOTE"
   ]
  },
  {
   "cell_type": "code",
   "execution_count": 38,
   "id": "62868757-9e82-43df-8822-fe9588d11ef3",
   "metadata": {},
   "outputs": [],
   "source": [
    "smote = SMOTE(k_neighbors= 5)"
   ]
  },
  {
   "cell_type": "code",
   "execution_count": 39,
   "id": "207e3de2-493f-413d-a65a-854bc5414747",
   "metadata": {},
   "outputs": [],
   "source": [
    "x_res, y_res = smote.fit_resample(x, y)"
   ]
  },
  {
   "cell_type": "code",
   "execution_count": 40,
   "id": "dcc2ab8d-4b93-4f03-b5e6-3126ddca2e3b",
   "metadata": {},
   "outputs": [
    {
     "data": {
      "text/plain": [
       "CLASS\n",
       "High      72\n",
       "Low       72\n",
       "Medium    72\n",
       "Name: count, dtype: int64"
      ]
     },
     "execution_count": 40,
     "metadata": {},
     "output_type": "execute_result"
    }
   ],
   "source": [
    "y_res.value_counts()"
   ]
  },
  {
   "cell_type": "code",
   "execution_count": 41,
   "id": "69a00d86-ecf4-4685-ae40-62dadcf9a771",
   "metadata": {},
   "outputs": [
    {
     "data": {
      "image/png": "[encoded data removed]",
      "text/plain": [
       "<Figure size 640x480 with 1 Axes>"
      ]
     },
     "metadata": {},
     "output_type": "display_data"
    }
   ],
   "source": [
    "sns.countplot(x = y_res);"
   ]
  },
  {
   "cell_type": "markdown",
   "id": "d7acf53a-be5b-4d9c-8123-7111c4e95417",
   "metadata": {},
   "source": [
    "## Feature Selection"
   ]
  },
  {
   "cell_type": "code",
   "execution_count": 43,
   "id": "ca6741f1-5942-4f0d-a9c8-4e4f6d7808e5",
   "metadata": {},
   "outputs": [],
   "source": [
    "from sklearn.feature_selection import SelectKBest, chi2"
   ]
  },
  {
   "cell_type": "code",
   "execution_count": 44,
   "id": "286efca3-d54e-42a5-99c8-94d5acec4455",
   "metadata": {},
   "outputs": [],
   "source": [
    "skf = SelectKBest(k = 5, score_func = chi2)"
   ]
  },
  {
   "cell_type": "code",
   "execution_count": 45,
   "id": "36d1f565-c21b-450e-bc59-b3a6fba93429",
   "metadata": {},
   "outputs": [],
   "source": [
    "x_new = skf.fit_transform(x_res, y_res)"
   ]
  },
  {
   "cell_type": "code",
   "execution_count": 46,
   "id": "8f38eb50-00b2-47ae-ac40-0a42df46f2c8",
   "metadata": {},
   "outputs": [
    {
     "data": {
      "text/plain": [
       "(216, 5)"
      ]
     },
     "execution_count": 46,
     "metadata": {},
     "output_type": "execute_result"
    }
   ],
   "source": [
    "x_new.shape"
   ]
  },
  {
   "cell_type": "code",
   "execution_count": 47,
   "id": "5cf9bdac-95ca-4c14-9ffb-1a7a899ed65e",
   "metadata": {},
   "outputs": [],
   "source": [
    "skf.get_support();"
   ]
  },
  {
   "cell_type": "code",
   "execution_count": 103,
   "id": "806edd47-fff0-47b4-b805-6c148bfdf424",
   "metadata": {},
   "outputs": [],
   "source": [
    "x = x_res.loc[:,skf.get_support()]"
   ]
  },
  {
   "cell_type": "code",
   "execution_count": 105,
   "id": "5301be99-3d07-413a-b45b-4ce4cc3dd3f9",
   "metadata": {},
   "outputs": [],
   "source": [
    "x;"
   ]
  },
  {
   "cell_type": "code",
   "execution_count": 109,
   "id": "bf1adaee-b4de-40fc-8a72-85f33ce30d7a",
   "metadata": {},
   "outputs": [
    {
     "data": {
      "text/plain": [
       "((216, 5), (216,))"
      ]
     },
     "execution_count": 109,
     "metadata": {},
     "output_type": "execute_result"
    }
   ],
   "source": [
    "x.shape, y_res.shape"
   ]
  },
  {
   "cell_type": "code",
   "execution_count": 111,
   "id": "93acf481-9b8d-4522-9a7a-5c4420a83613",
   "metadata": {},
   "outputs": [
    {
     "data": {
      "text/html": [
       "<div>\n",
       "<style scoped>\n",
       "    .dataframe tbody tr th:only-of-type {\n",
       "        vertical-align: middle;\n",
       "    }\n",
       "\n",
       "    .dataframe tbody tr th {\n",
       "        vertical-align: top;\n",
       "    }\n",
       "\n",
       "    .dataframe thead th {\n",
       "        text-align: right;\n",
       "    }\n",
       "</style>\n",
       "<table border=\"1\" class=\"dataframe\">\n",
       "  <thead>\n",
       "    <tr style=\"text-align: right;\">\n",
       "      <th></th>\n",
       "      <th>COLOR_INTENSITY</th>\n",
       "      <th>FLAVANOIDS</th>\n",
       "      <th>PROLINE</th>\n",
       "      <th>TEMPERATURE</th>\n",
       "      <th>FER_P2O5_PER</th>\n",
       "    </tr>\n",
       "  </thead>\n",
       "  <tbody>\n",
       "    <tr>\n",
       "      <th>count</th>\n",
       "      <td>216.000000</td>\n",
       "      <td>216.000000</td>\n",
       "      <td>216.000000</td>\n",
       "      <td>216.000000</td>\n",
       "      <td>216.000000</td>\n",
       "    </tr>\n",
       "    <tr>\n",
       "      <th>mean</th>\n",
       "      <td>117.094881</td>\n",
       "      <td>1.917717</td>\n",
       "      <td>758.037037</td>\n",
       "      <td>26.545682</td>\n",
       "      <td>41.599584</td>\n",
       "    </tr>\n",
       "    <tr>\n",
       "      <th>std</th>\n",
       "      <td>13.391676</td>\n",
       "      <td>0.991653</td>\n",
       "      <td>305.505602</td>\n",
       "      <td>3.117409</td>\n",
       "      <td>9.919443</td>\n",
       "    </tr>\n",
       "    <tr>\n",
       "      <th>min</th>\n",
       "      <td>93.000000</td>\n",
       "      <td>0.470000</td>\n",
       "      <td>278.000000</td>\n",
       "      <td>21.020000</td>\n",
       "      <td>20.000000</td>\n",
       "    </tr>\n",
       "    <tr>\n",
       "      <th>25%</th>\n",
       "      <td>106.390000</td>\n",
       "      <td>0.969276</td>\n",
       "      <td>514.750000</td>\n",
       "      <td>24.060000</td>\n",
       "      <td>33.784719</td>\n",
       "    </tr>\n",
       "    <tr>\n",
       "      <th>50%</th>\n",
       "      <td>115.766816</td>\n",
       "      <td>2.005000</td>\n",
       "      <td>679.000000</td>\n",
       "      <td>26.340000</td>\n",
       "      <td>43.084743</td>\n",
       "    </tr>\n",
       "    <tr>\n",
       "      <th>75%</th>\n",
       "      <td>124.060000</td>\n",
       "      <td>2.766688</td>\n",
       "      <td>1012.000000</td>\n",
       "      <td>29.137957</td>\n",
       "      <td>48.905000</td>\n",
       "    </tr>\n",
       "    <tr>\n",
       "      <th>max</th>\n",
       "      <td>153.110000</td>\n",
       "      <td>3.930000</td>\n",
       "      <td>1680.000000</td>\n",
       "      <td>32.340000</td>\n",
       "      <td>60.870000</td>\n",
       "    </tr>\n",
       "  </tbody>\n",
       "</table>\n",
       "</div>"
      ],
      "text/plain": [
       "       COLOR_INTENSITY  FLAVANOIDS      PROLINE  TEMPERATURE  FER_P2O5_PER\n",
       "count       216.000000  216.000000   216.000000   216.000000    216.000000\n",
       "mean        117.094881    1.917717   758.037037    26.545682     41.599584\n",
       "std          13.391676    0.991653   305.505602     3.117409      9.919443\n",
       "min          93.000000    0.470000   278.000000    21.020000     20.000000\n",
       "25%         106.390000    0.969276   514.750000    24.060000     33.784719\n",
       "50%         115.766816    2.005000   679.000000    26.340000     43.084743\n",
       "75%         124.060000    2.766688  1012.000000    29.137957     48.905000\n",
       "max         153.110000    3.930000  1680.000000    32.340000     60.870000"
      ]
     },
     "execution_count": 111,
     "metadata": {},
     "output_type": "execute_result"
    }
   ],
   "source": [
    "x.describe()"
   ]
  },
  {
   "cell_type": "markdown",
   "id": "7b7b1a9c-44b5-4311-bb52-7c85e0d2b094",
   "metadata": {},
   "source": [
    "## Feature Scaling"
   ]
  },
  {
   "cell_type": "code",
   "execution_count": 114,
   "id": "03f8d98e-dfa6-4888-8ffa-1206bb6822fd",
   "metadata": {},
   "outputs": [],
   "source": [
    "from sklearn.preprocessing import MinMaxScaler\n",
    "scaler = MinMaxScaler()\n",
    "x_scaled = scaler.fit_transform(x)"
   ]
  },
  {
   "cell_type": "markdown",
   "id": "813f15e0-6280-4540-a4e9-b7e90da3dfa6",
   "metadata": {},
   "source": [
    "## cross validation"
   ]
  },
  {
   "cell_type": "code",
   "execution_count": 116,
   "id": "d63cc116-1f77-4728-bf77-5f19eede3e6a",
   "metadata": {},
   "outputs": [
    {
     "data": {
      "text/plain": [
       "(216, 5)"
      ]
     },
     "execution_count": 116,
     "metadata": {},
     "output_type": "execute_result"
    }
   ],
   "source": [
    "x_scaled.shape"
   ]
  },
  {
   "cell_type": "code",
   "execution_count": 122,
   "id": "e6a47600-50f7-4250-a2f1-610c055bf2e0",
   "metadata": {},
   "outputs": [],
   "source": [
    "from sklearn.model_selection import train_test_split\n",
    "\n",
    "x_train, x_test, y_train, y_test = train_test_split(x_scaled, y_res,\n",
    "                                                   random_state= 0,\n",
    "                                                   test_size= 0.2,\n",
    "                                                   stratify= y_res)"
   ]
  },
  {
   "cell_type": "code",
   "execution_count": 124,
   "id": "4457816c-ef44-4e70-acae-2b224781e932",
   "metadata": {},
   "outputs": [
    {
     "data": {
      "text/plain": [
       "((172, 5), (172,))"
      ]
     },
     "execution_count": 124,
     "metadata": {},
     "output_type": "execute_result"
    }
   ],
   "source": [
    "x_train.shape, y_train.shape"
   ]
  },
  {
   "cell_type": "code",
   "execution_count": 126,
   "id": "3b4e9d73-268b-4cc1-86c1-d8c0c1a396d7",
   "metadata": {},
   "outputs": [
    {
     "data": {
      "text/plain": [
       "((44, 5), (44,))"
      ]
     },
     "execution_count": 126,
     "metadata": {},
     "output_type": "execute_result"
    }
   ],
   "source": [
    "x_test.shape, y_test.shape"
   ]
  },
  {
   "cell_type": "markdown",
   "id": "f05d11fe-a9cb-4fe1-aa77-c66b259102ad",
   "metadata": {},
   "source": [
    "## Buid the model"
   ]
  },
  {
   "cell_type": "code",
   "execution_count": 131,
   "id": "17442b27-40fb-4441-b11e-ba1f9f6c2db9",
   "metadata": {},
   "outputs": [],
   "source": [
    "from sklearn.ensemble import RandomForestClassifier\n",
    "from sklearn.model_selection import GridSearchCV"
   ]
  },
  {
   "cell_type": "code",
   "execution_count": 135,
   "id": "72d55f9e-5a7a-4018-a0fe-5580f9d3f9ec",
   "metadata": {},
   "outputs": [],
   "source": [
    "params = {'random_state': [0, 42],\n",
    "         'criterion': ['gini', 'entropy'],\n",
    "         'max_features': ['sqrt', 'log2'],\n",
    "         'n_estimators': [20, 30, 100]}"
   ]
  },
  {
   "cell_type": "code",
   "execution_count": 137,
   "id": "85183a26-6115-4496-b9c2-11c2a1fb5416",
   "metadata": {},
   "outputs": [],
   "source": [
    "grid = GridSearchCV(estimator= RandomForestClassifier(),\n",
    "                   param_grid= params,\n",
    "                   scoring = 'accuracy',\n",
    "                   cv = 5)"
   ]
  },
  {
   "cell_type": "code",
   "execution_count": 139,
   "id": "daa58665-3826-4970-85cf-a7b018daa017",
   "metadata": {},
   "outputs": [
    {
     "data": {
      "text/html": [
       "<style>#sk-container-id-1 {\n",
       "  /* Definition of color scheme common for light and dark mode */\n",
       "  --sklearn-color-text: black;\n",
       "  --sklearn-color-line: gray;\n",
       "  /* Definition of color scheme for unfitted estimators */\n",
       "  --sklearn-color-unfitted-level-0: #fff5e6;\n",
       "  --sklearn-color-unfitted-level-1: #f6e4d2;\n",
       "  --sklearn-color-unfitted-level-2: #ffe0b3;\n",
       "  --sklearn-color-unfitted-level-3: chocolate;\n",
       "  /* Definition of color scheme for fitted estimators */\n",
       "  --sklearn-color-fitted-level-0: #f0f8ff;\n",
       "  --sklearn-color-fitted-level-1: #d4ebff;\n",
       "  --sklearn-color-fitted-level-2: #b3dbfd;\n",
       "  --sklearn-color-fitted-level-3: cornflowerblue;\n",
       "\n",
       "  /* Specific color for light theme */\n",
       "  --sklearn-color-text-on-default-background: var(--sg-text-color, var(--theme-code-foreground, var(--jp-content-font-color1, black)));\n",
       "  --sklearn-color-background: var(--sg-background-color, var(--theme-background, var(--jp-layout-color0, white)));\n",
       "  --sklearn-color-border-box: var(--sg-text-color, var(--theme-code-foreground, var(--jp-content-font-color1, black)));\n",
       "  --sklearn-color-icon: #696969;\n",
       "\n",
       "  @media (prefers-color-scheme: dark) {\n",
       "    /* Redefinition of color scheme for dark theme */\n",
       "    --sklearn-color-text-on-default-background: var(--sg-text-color, var(--theme-code-foreground, var(--jp-content-font-color1, white)));\n",
       "    --sklearn-color-background: var(--sg-background-color, var(--theme-background, var(--jp-layout-color0, #111)));\n",
       "    --sklearn-color-border-box: var(--sg-text-color, var(--theme-code-foreground, var(--jp-content-font-color1, white)));\n",
       "    --sklearn-color-icon: #878787;\n",
       "  }\n",
       "}\n",
       "\n",
       "#sk-container-id-1 {\n",
       "  color: var(--sklearn-color-text);\n",
       "}\n",
       "\n",
       "#sk-container-id-1 pre {\n",
       "  padding: 0;\n",
       "}\n",
       "\n",
       "#sk-container-id-1 input.sk-hidden--visually {\n",
       "  border: 0;\n",
       "  clip: rect(1px 1px 1px 1px);\n",
       "  clip: rect(1px, 1px, 1px, 1px);\n",
       "  height: 1px;\n",
       "  margin: -1px;\n",
       "  overflow: hidden;\n",
       "  padding: 0;\n",
       "  position: absolute;\n",
       "  width: 1px;\n",
       "}\n",
       "\n",
       "#sk-container-id-1 div.sk-dashed-wrapped {\n",
       "  border: 1px dashed var(--sklearn-color-line);\n",
       "  margin: 0 0.4em 0.5em 0.4em;\n",
       "  box-sizing: border-box;\n",
       "  padding-bottom: 0.4em;\n",
       "  background-color: var(--sklearn-color-background);\n",
       "}\n",
       "\n",
       "#sk-container-id-1 div.sk-container {\n",
       "  /* jupyter's `normalize.less` sets `[hidden] { display: none; }`\n",
       "     but bootstrap.min.css set `[hidden] { display: none !important; }`\n",
       "     so we also need the `!important` here to be able to override the\n",
       "     default hidden behavior on the sphinx rendered scikit-learn.org.\n",
       "     See: https://github.com/scikit-learn/scikit-learn/issues/21755 */\n",
       "  display: inline-block !important;\n",
       "  position: relative;\n",
       "}\n",
       "\n",
       "#sk-container-id-1 div.sk-text-repr-fallback {\n",
       "  display: none;\n",
       "}\n",
       "\n",
       "div.sk-parallel-item,\n",
       "div.sk-serial,\n",
       "div.sk-item {\n",
       "  /* draw centered vertical line to link estimators */\n",
       "  background-image: linear-gradient(var(--sklearn-color-text-on-default-background), var(--sklearn-color-text-on-default-background));\n",
       "  background-size: 2px 100%;\n",
       "  background-repeat: no-repeat;\n",
       "  background-position: center center;\n",
       "}\n",
       "\n",
       "/* Parallel-specific style estimator block */\n",
       "\n",
       "#sk-container-id-1 div.sk-parallel-item::after {\n",
       "  content: \"\";\n",
       "  width: 100%;\n",
       "  border-bottom: 2px solid var(--sklearn-color-text-on-default-background);\n",
       "  flex-grow: 1;\n",
       "}\n",
       "\n",
       "#sk-container-id-1 div.sk-parallel {\n",
       "  display: flex;\n",
       "  align-items: stretch;\n",
       "  justify-content: center;\n",
       "  background-color: var(--sklearn-color-background);\n",
       "  position: relative;\n",
       "}\n",
       "\n",
       "#sk-container-id-1 div.sk-parallel-item {\n",
       "  display: flex;\n",
       "  flex-direction: column;\n",
       "}\n",
       "\n",
       "#sk-container-id-1 div.sk-parallel-item:first-child::after {\n",
       "  align-self: flex-end;\n",
       "  width: 50%;\n",
       "}\n",
       "\n",
       "#sk-container-id-1 div.sk-parallel-item:last-child::after {\n",
       "  align-self: flex-start;\n",
       "  width: 50%;\n",
       "}\n",
       "\n",
       "#sk-container-id-1 div.sk-parallel-item:only-child::after {\n",
       "  width: 0;\n",
       "}\n",
       "\n",
       "/* Serial-specific style estimator block */\n",
       "\n",
       "#sk-container-id-1 div.sk-serial {\n",
       "  display: flex;\n",
       "  flex-direction: column;\n",
       "  align-items: center;\n",
       "  background-color: var(--sklearn-color-background);\n",
       "  padding-right: 1em;\n",
       "  padding-left: 1em;\n",
       "}\n",
       "\n",
       "\n",
       "/* Toggleable style: style used for estimator/Pipeline/ColumnTransformer box that is\n",
       "clickable and can be expanded/collapsed.\n",
       "- Pipeline and ColumnTransformer use this feature and define the default style\n",
       "- Estimators will overwrite some part of the style using the `sk-estimator` class\n",
       "*/\n",
       "\n",
       "/* Pipeline and ColumnTransformer style (default) */\n",
       "\n",
       "#sk-container-id-1 div.sk-toggleable {\n",
       "  /* Default theme specific background. It is overwritten whether we have a\n",
       "  specific estimator or a Pipeline/ColumnTransformer */\n",
       "  background-color: var(--sklearn-color-background);\n",
       "}\n",
       "\n",
       "/* Toggleable label */\n",
       "#sk-container-id-1 label.sk-toggleable__label {\n",
       "  cursor: pointer;\n",
       "  display: block;\n",
       "  width: 100%;\n",
       "  margin-bottom: 0;\n",
       "  padding: 0.5em;\n",
       "  box-sizing: border-box;\n",
       "  text-align: center;\n",
       "}\n",
       "\n",
       "#sk-container-id-1 label.sk-toggleable__label-arrow:before {\n",
       "  /* Arrow on the left of the label */\n",
       "  content: \"▸\";\n",
       "  float: left;\n",
       "  margin-right: 0.25em;\n",
       "  color: var(--sklearn-color-icon);\n",
       "}\n",
       "\n",
       "#sk-container-id-1 label.sk-toggleable__label-arrow:hover:before {\n",
       "  color: var(--sklearn-color-text);\n",
       "}\n",
       "\n",
       "/* Toggleable content - dropdown */\n",
       "\n",
       "#sk-container-id-1 div.sk-toggleable__content {\n",
       "  max-height: 0;\n",
       "  max-width: 0;\n",
       "  overflow: hidden;\n",
       "  text-align: left;\n",
       "  /* unfitted */\n",
       "  background-color: var(--sklearn-color-unfitted-level-0);\n",
       "}\n",
       "\n",
       "#sk-container-id-1 div.sk-toggleable__content.fitted {\n",
       "  /* fitted */\n",
       "  background-color: var(--sklearn-color-fitted-level-0);\n",
       "}\n",
       "\n",
       "#sk-container-id-1 div.sk-toggleable__content pre {\n",
       "  margin: 0.2em;\n",
       "  border-radius: 0.25em;\n",
       "  color: var(--sklearn-color-text);\n",
       "  /* unfitted */\n",
       "  background-color: var(--sklearn-color-unfitted-level-0);\n",
       "}\n",
       "\n",
       "#sk-container-id-1 div.sk-toggleable__content.fitted pre {\n",
       "  /* unfitted */\n",
       "  background-color: var(--sklearn-color-fitted-level-0);\n",
       "}\n",
       "\n",
       "#sk-container-id-1 input.sk-toggleable__control:checked~div.sk-toggleable__content {\n",
       "  /* Expand drop-down */\n",
       "  max-height: 200px;\n",
       "  max-width: 100%;\n",
       "  overflow: auto;\n",
       "}\n",
       "\n",
       "#sk-container-id-1 input.sk-toggleable__control:checked~label.sk-toggleable__label-arrow:before {\n",
       "  content: \"▾\";\n",
       "}\n",
       "\n",
       "/* Pipeline/ColumnTransformer-specific style */\n",
       "\n",
       "#sk-container-id-1 div.sk-label input.sk-toggleable__control:checked~label.sk-toggleable__label {\n",
       "  color: var(--sklearn-color-text);\n",
       "  background-color: var(--sklearn-color-unfitted-level-2);\n",
       "}\n",
       "\n",
       "#sk-container-id-1 div.sk-label.fitted input.sk-toggleable__control:checked~label.sk-toggleable__label {\n",
       "  background-color: var(--sklearn-color-fitted-level-2);\n",
       "}\n",
       "\n",
       "/* Estimator-specific style */\n",
       "\n",
       "/* Colorize estimator box */\n",
       "#sk-container-id-1 div.sk-estimator input.sk-toggleable__control:checked~label.sk-toggleable__label {\n",
       "  /* unfitted */\n",
       "  background-color: var(--sklearn-color-unfitted-level-2);\n",
       "}\n",
       "\n",
       "#sk-container-id-1 div.sk-estimator.fitted input.sk-toggleable__control:checked~label.sk-toggleable__label {\n",
       "  /* fitted */\n",
       "  background-color: var(--sklearn-color-fitted-level-2);\n",
       "}\n",
       "\n",
       "#sk-container-id-1 div.sk-label label.sk-toggleable__label,\n",
       "#sk-container-id-1 div.sk-label label {\n",
       "  /* The background is the default theme color */\n",
       "  color: var(--sklearn-color-text-on-default-background);\n",
       "}\n",
       "\n",
       "/* On hover, darken the color of the background */\n",
       "#sk-container-id-1 div.sk-label:hover label.sk-toggleable__label {\n",
       "  color: var(--sklearn-color-text);\n",
       "  background-color: var(--sklearn-color-unfitted-level-2);\n",
       "}\n",
       "\n",
       "/* Label box, darken color on hover, fitted */\n",
       "#sk-container-id-1 div.sk-label.fitted:hover label.sk-toggleable__label.fitted {\n",
       "  color: var(--sklearn-color-text);\n",
       "  background-color: var(--sklearn-color-fitted-level-2);\n",
       "}\n",
       "\n",
       "/* Estimator label */\n",
       "\n",
       "#sk-container-id-1 div.sk-label label {\n",
       "  font-family: monospace;\n",
       "  font-weight: bold;\n",
       "  display: inline-block;\n",
       "  line-height: 1.2em;\n",
       "}\n",
       "\n",
       "#sk-container-id-1 div.sk-label-container {\n",
       "  text-align: center;\n",
       "}\n",
       "\n",
       "/* Estimator-specific */\n",
       "#sk-container-id-1 div.sk-estimator {\n",
       "  font-family: monospace;\n",
       "  border: 1px dotted var(--sklearn-color-border-box);\n",
       "  border-radius: 0.25em;\n",
       "  box-sizing: border-box;\n",
       "  margin-bottom: 0.5em;\n",
       "  /* unfitted */\n",
       "  background-color: var(--sklearn-color-unfitted-level-0);\n",
       "}\n",
       "\n",
       "#sk-container-id-1 div.sk-estimator.fitted {\n",
       "  /* fitted */\n",
       "  background-color: var(--sklearn-color-fitted-level-0);\n",
       "}\n",
       "\n",
       "/* on hover */\n",
       "#sk-container-id-1 div.sk-estimator:hover {\n",
       "  /* unfitted */\n",
       "  background-color: var(--sklearn-color-unfitted-level-2);\n",
       "}\n",
       "\n",
       "#sk-container-id-1 div.sk-estimator.fitted:hover {\n",
       "  /* fitted */\n",
       "  background-color: var(--sklearn-color-fitted-level-2);\n",
       "}\n",
       "\n",
       "/* Specification for estimator info (e.g. \"i\" and \"?\") */\n",
       "\n",
       "/* Common style for \"i\" and \"?\" */\n",
       "\n",
       ".sk-estimator-doc-link,\n",
       "a:link.sk-estimator-doc-link,\n",
       "a:visited.sk-estimator-doc-link {\n",
       "  float: right;\n",
       "  font-size: smaller;\n",
       "  line-height: 1em;\n",
       "  font-family: monospace;\n",
       "  background-color: var(--sklearn-color-background);\n",
       "  border-radius: 1em;\n",
       "  height: 1em;\n",
       "  width: 1em;\n",
       "  text-decoration: none !important;\n",
       "  margin-left: 1ex;\n",
       "  /* unfitted */\n",
       "  border: var(--sklearn-color-unfitted-level-1) 1pt solid;\n",
       "  color: var(--sklearn-color-unfitted-level-1);\n",
       "}\n",
       "\n",
       ".sk-estimator-doc-link.fitted,\n",
       "a:link.sk-estimator-doc-link.fitted,\n",
       "a:visited.sk-estimator-doc-link.fitted {\n",
       "  /* fitted */\n",
       "  border: var(--sklearn-color-fitted-level-1) 1pt solid;\n",
       "  color: var(--sklearn-color-fitted-level-1);\n",
       "}\n",
       "\n",
       "/* On hover */\n",
       "div.sk-estimator:hover .sk-estimator-doc-link:hover,\n",
       ".sk-estimator-doc-link:hover,\n",
       "div.sk-label-container:hover .sk-estimator-doc-link:hover,\n",
       ".sk-estimator-doc-link:hover {\n",
       "  /* unfitted */\n",
       "  background-color: var(--sklearn-color-unfitted-level-3);\n",
       "  color: var(--sklearn-color-background);\n",
       "  text-decoration: none;\n",
       "}\n",
       "\n",
       "div.sk-estimator.fitted:hover .sk-estimator-doc-link.fitted:hover,\n",
       ".sk-estimator-doc-link.fitted:hover,\n",
       "div.sk-label-container:hover .sk-estimator-doc-link.fitted:hover,\n",
       ".sk-estimator-doc-link.fitted:hover {\n",
       "  /* fitted */\n",
       "  background-color: var(--sklearn-color-fitted-level-3);\n",
       "  color: var(--sklearn-color-background);\n",
       "  text-decoration: none;\n",
       "}\n",
       "\n",
       "/* Span, style for the box shown on hovering the info icon */\n",
       ".sk-estimator-doc-link span {\n",
       "  display: none;\n",
       "  z-index: 9999;\n",
       "  position: relative;\n",
       "  font-weight: normal;\n",
       "  right: .2ex;\n",
       "  padding: .5ex;\n",
       "  margin: .5ex;\n",
       "  width: min-content;\n",
       "  min-width: 20ex;\n",
       "  max-width: 50ex;\n",
       "  color: var(--sklearn-color-text);\n",
       "  box-shadow: 2pt 2pt 4pt #999;\n",
       "  /* unfitted */\n",
       "  background: var(--sklearn-color-unfitted-level-0);\n",
       "  border: .5pt solid var(--sklearn-color-unfitted-level-3);\n",
       "}\n",
       "\n",
       ".sk-estimator-doc-link.fitted span {\n",
       "  /* fitted */\n",
       "  background: var(--sklearn-color-fitted-level-0);\n",
       "  border: var(--sklearn-color-fitted-level-3);\n",
       "}\n",
       "\n",
       ".sk-estimator-doc-link:hover span {\n",
       "  display: block;\n",
       "}\n",
       "\n",
       "/* \"?\"-specific style due to the `<a>` HTML tag */\n",
       "\n",
       "#sk-container-id-1 a.estimator_doc_link {\n",
       "  float: right;\n",
       "  font-size: 1rem;\n",
       "  line-height: 1em;\n",
       "  font-family: monospace;\n",
       "  background-color: var(--sklearn-color-background);\n",
       "  border-radius: 1rem;\n",
       "  height: 1rem;\n",
       "  width: 1rem;\n",
       "  text-decoration: none;\n",
       "  /* unfitted */\n",
       "  color: var(--sklearn-color-unfitted-level-1);\n",
       "  border: var(--sklearn-color-unfitted-level-1) 1pt solid;\n",
       "}\n",
       "\n",
       "#sk-container-id-1 a.estimator_doc_link.fitted {\n",
       "  /* fitted */\n",
       "  border: var(--sklearn-color-fitted-level-1) 1pt solid;\n",
       "  color: var(--sklearn-color-fitted-level-1);\n",
       "}\n",
       "\n",
       "/* On hover */\n",
       "#sk-container-id-1 a.estimator_doc_link:hover {\n",
       "  /* unfitted */\n",
       "  background-color: var(--sklearn-color-unfitted-level-3);\n",
       "  color: var(--sklearn-color-background);\n",
       "  text-decoration: none;\n",
       "}\n",
       "\n",
       "#sk-container-id-1 a.estimator_doc_link.fitted:hover {\n",
       "  /* fitted */\n",
       "  background-color: var(--sklearn-color-fitted-level-3);\n",
       "}\n",
       "</style><div id=\"sk-container-id-1\" class=\"sk-top-container\"><div class=\"sk-text-repr-fallback\"><pre>GridSearchCV(cv=5, estimator=RandomForestClassifier(),\n",
       "             param_grid={&#x27;criterion&#x27;: [&#x27;gini&#x27;, &#x27;entropy&#x27;],\n",
       "                         &#x27;max_features&#x27;: [&#x27;sqrt&#x27;, &#x27;log2&#x27;],\n",
       "                         &#x27;n_estimators&#x27;: [20, 30, 100],\n",
       "                         &#x27;random_state&#x27;: [0, 42]},\n",
       "             scoring=&#x27;accuracy&#x27;)</pre><b>In a Jupyter environment, please rerun this cell to show the HTML representation or trust the notebook. <br />On GitHub, the HTML representation is unable to render, please try loading this page with nbviewer.org.</b></div><div class=\"sk-container\" hidden><div class=\"sk-item sk-dashed-wrapped\"><div class=\"sk-label-container\"><div class=\"sk-label fitted sk-toggleable\"><input class=\"sk-toggleable__control sk-hidden--visually\" id=\"sk-estimator-id-1\" type=\"checkbox\" ><label for=\"sk-estimator-id-1\" class=\"sk-toggleable__label fitted sk-toggleable__label-arrow fitted\">&nbsp;&nbsp;GridSearchCV<a class=\"sk-estimator-doc-link fitted\" rel=\"noreferrer\" target=\"_blank\" href=\"https://scikit-learn.org/1.4/modules/generated/sklearn.model_selection.GridSearchCV.html\">?<span>Documentation for GridSearchCV</span></a><span class=\"sk-estimator-doc-link fitted\">i<span>Fitted</span></span></label><div class=\"sk-toggleable__content fitted\"><pre>GridSearchCV(cv=5, estimator=RandomForestClassifier(),\n",
       "             param_grid={&#x27;criterion&#x27;: [&#x27;gini&#x27;, &#x27;entropy&#x27;],\n",
       "                         &#x27;max_features&#x27;: [&#x27;sqrt&#x27;, &#x27;log2&#x27;],\n",
       "                         &#x27;n_estimators&#x27;: [20, 30, 100],\n",
       "                         &#x27;random_state&#x27;: [0, 42]},\n",
       "             scoring=&#x27;accuracy&#x27;)</pre></div> </div></div><div class=\"sk-parallel\"><div class=\"sk-parallel-item\"><div class=\"sk-item\"><div class=\"sk-label-container\"><div class=\"sk-label fitted sk-toggleable\"><input class=\"sk-toggleable__control sk-hidden--visually\" id=\"sk-estimator-id-2\" type=\"checkbox\" ><label for=\"sk-estimator-id-2\" class=\"sk-toggleable__label fitted sk-toggleable__label-arrow fitted\">estimator: RandomForestClassifier</label><div class=\"sk-toggleable__content fitted\"><pre>RandomForestClassifier()</pre></div> </div></div><div class=\"sk-serial\"><div class=\"sk-item\"><div class=\"sk-estimator fitted sk-toggleable\"><input class=\"sk-toggleable__control sk-hidden--visually\" id=\"sk-estimator-id-3\" type=\"checkbox\" ><label for=\"sk-estimator-id-3\" class=\"sk-toggleable__label fitted sk-toggleable__label-arrow fitted\">&nbsp;RandomForestClassifier<a class=\"sk-estimator-doc-link fitted\" rel=\"noreferrer\" target=\"_blank\" href=\"https://scikit-learn.org/1.4/modules/generated/sklearn.ensemble.RandomForestClassifier.html\">?<span>Documentation for RandomForestClassifier</span></a></label><div class=\"sk-toggleable__content fitted\"><pre>RandomForestClassifier()</pre></div> </div></div></div></div></div></div></div></div></div>"
      ],
      "text/plain": [
       "GridSearchCV(cv=5, estimator=RandomForestClassifier(),\n",
       "             param_grid={'criterion': ['gini', 'entropy'],\n",
       "                         'max_features': ['sqrt', 'log2'],\n",
       "                         'n_estimators': [20, 30, 100],\n",
       "                         'random_state': [0, 42]},\n",
       "             scoring='accuracy')"
      ]
     },
     "execution_count": 139,
     "metadata": {},
     "output_type": "execute_result"
    }
   ],
   "source": [
    "grid.fit(x_train, y_train)"
   ]
  },
  {
   "cell_type": "code",
   "execution_count": 141,
   "id": "0838af23-5743-4f56-8f44-17a1af5355ed",
   "metadata": {},
   "outputs": [],
   "source": [
    "y_pred = grid.predict(x_test)"
   ]
  },
  {
   "cell_type": "code",
   "execution_count": 143,
   "id": "9dc72f9b-fd84-4171-a525-610db78a70e3",
   "metadata": {},
   "outputs": [],
   "source": [
    "from sklearn.metrics import classification_report, ConfusionMatrixDisplay, accuracy_score"
   ]
  },
  {
   "cell_type": "code",
   "execution_count": 145,
   "id": "7f204137-6be0-456a-adba-75c8f0223319",
   "metadata": {},
   "outputs": [
    {
     "data": {
      "image/png": "[encoded data removed]",
      "text/plain": [
       "<Figure size 640x480 with 2 Axes>"
      ]
     },
     "metadata": {},
     "output_type": "display_data"
    }
   ],
   "source": [
    "ConfusionMatrixDisplay.from_predictions(y_test, y_pred);"
   ]
  },
  {
   "cell_type": "code",
   "execution_count": 147,
   "id": "00570a67-1441-459f-914b-5895e80aa2f7",
   "metadata": {},
   "outputs": [
    {
     "data": {
      "text/plain": [
       "0.9545454545454546"
      ]
     },
     "execution_count": 147,
     "metadata": {},
     "output_type": "execute_result"
    }
   ],
   "source": [
    "42/44"
   ]
  },
  {
   "cell_type": "code",
   "execution_count": 149,
   "id": "2a97f0c4-5f54-4911-841f-53553d4e6cc4",
   "metadata": {},
   "outputs": [
    {
     "data": {
      "text/plain": [
       "0.9545454545454546"
      ]
     },
     "execution_count": 149,
     "metadata": {},
     "output_type": "execute_result"
    }
   ],
   "source": [
    "accuracy_score(y_test, y_pred)"
   ]
  },
  {
   "cell_type": "code",
   "execution_count": 151,
   "id": "ea4c16ae-f2e3-4b5f-932e-7860c3fec1a6",
   "metadata": {},
   "outputs": [
    {
     "name": "stdout",
     "output_type": "stream",
     "text": [
      "              precision    recall  f1-score   support\n",
      "\n",
      "        High       0.94      1.00      0.97        15\n",
      "         Low       0.94      1.00      0.97        15\n",
      "      Medium       1.00      0.86      0.92        14\n",
      "\n",
      "    accuracy                           0.95        44\n",
      "   macro avg       0.96      0.95      0.95        44\n",
      "weighted avg       0.96      0.95      0.95        44\n",
      "\n"
     ]
    }
   ],
   "source": [
    "print(classification_report(y_test, y_pred))"
   ]
  },
  {
   "cell_type": "code",
   "execution_count": 153,
   "id": "7707ace7-a699-46b1-b913-f8c9d92511dc",
   "metadata": {},
   "outputs": [
    {
     "data": {
      "text/plain": [
       "{'criterion': 'gini',\n",
       " 'max_features': 'sqrt',\n",
       " 'n_estimators': 100,\n",
       " 'random_state': 0}"
      ]
     },
     "execution_count": 153,
     "metadata": {},
     "output_type": "execute_result"
    }
   ],
   "source": [
    "grid.best_params_"
   ]
  },
  {
   "cell_type": "code",
   "execution_count": 159,
   "id": "e65586e3-b051-49b2-b55d-fa3a3b9327e0",
   "metadata": {},
   "outputs": [
    {
     "data": {
      "text/html": [
       "<style>#sk-container-id-2 {\n",
       "  /* Definition of color scheme common for light and dark mode */\n",
       "  --sklearn-color-text: black;\n",
       "  --sklearn-color-line: gray;\n",
       "  /* Definition of color scheme for unfitted estimators */\n",
       "  --sklearn-color-unfitted-level-0: #fff5e6;\n",
       "  --sklearn-color-unfitted-level-1: #f6e4d2;\n",
       "  --sklearn-color-unfitted-level-2: #ffe0b3;\n",
       "  --sklearn-color-unfitted-level-3: chocolate;\n",
       "  /* Definition of color scheme for fitted estimators */\n",
       "  --sklearn-color-fitted-level-0: #f0f8ff;\n",
       "  --sklearn-color-fitted-level-1: #d4ebff;\n",
       "  --sklearn-color-fitted-level-2: #b3dbfd;\n",
       "  --sklearn-color-fitted-level-3: cornflowerblue;\n",
       "\n",
       "  /* Specific color for light theme */\n",
       "  --sklearn-color-text-on-default-background: var(--sg-text-color, var(--theme-code-foreground, var(--jp-content-font-color1, black)));\n",
       "  --sklearn-color-background: var(--sg-background-color, var(--theme-background, var(--jp-layout-color0, white)));\n",
       "  --sklearn-color-border-box: var(--sg-text-color, var(--theme-code-foreground, var(--jp-content-font-color1, black)));\n",
       "  --sklearn-color-icon: #696969;\n",
       "\n",
       "  @media (prefers-color-scheme: dark) {\n",
       "    /* Redefinition of color scheme for dark theme */\n",
       "    --sklearn-color-text-on-default-background: var(--sg-text-color, var(--theme-code-foreground, var(--jp-content-font-color1, white)));\n",
       "    --sklearn-color-background: var(--sg-background-color, var(--theme-background, var(--jp-layout-color0, #111)));\n",
       "    --sklearn-color-border-box: var(--sg-text-color, var(--theme-code-foreground, var(--jp-content-font-color1, white)));\n",
       "    --sklearn-color-icon: #878787;\n",
       "  }\n",
       "}\n",
       "\n",
       "#sk-container-id-2 {\n",
       "  color: var(--sklearn-color-text);\n",
       "}\n",
       "\n",
       "#sk-container-id-2 pre {\n",
       "  padding: 0;\n",
       "}\n",
       "\n",
       "#sk-container-id-2 input.sk-hidden--visually {\n",
       "  border: 0;\n",
       "  clip: rect(1px 1px 1px 1px);\n",
       "  clip: rect(1px, 1px, 1px, 1px);\n",
       "  height: 1px;\n",
       "  margin: -1px;\n",
       "  overflow: hidden;\n",
       "  padding: 0;\n",
       "  position: absolute;\n",
       "  width: 1px;\n",
       "}\n",
       "\n",
       "#sk-container-id-2 div.sk-dashed-wrapped {\n",
       "  border: 1px dashed var(--sklearn-color-line);\n",
       "  margin: 0 0.4em 0.5em 0.4em;\n",
       "  box-sizing: border-box;\n",
       "  padding-bottom: 0.4em;\n",
       "  background-color: var(--sklearn-color-background);\n",
       "}\n",
       "\n",
       "#sk-container-id-2 div.sk-container {\n",
       "  /* jupyter's `normalize.less` sets `[hidden] { display: none; }`\n",
       "     but bootstrap.min.css set `[hidden] { display: none !important; }`\n",
       "     so we also need the `!important` here to be able to override the\n",
       "     default hidden behavior on the sphinx rendered scikit-learn.org.\n",
       "     See: https://github.com/scikit-learn/scikit-learn/issues/21755 */\n",
       "  display: inline-block !important;\n",
       "  position: relative;\n",
       "}\n",
       "\n",
       "#sk-container-id-2 div.sk-text-repr-fallback {\n",
       "  display: none;\n",
       "}\n",
       "\n",
       "div.sk-parallel-item,\n",
       "div.sk-serial,\n",
       "div.sk-item {\n",
       "  /* draw centered vertical line to link estimators */\n",
       "  background-image: linear-gradient(var(--sklearn-color-text-on-default-background), var(--sklearn-color-text-on-default-background));\n",
       "  background-size: 2px 100%;\n",
       "  background-repeat: no-repeat;\n",
       "  background-position: center center;\n",
       "}\n",
       "\n",
       "/* Parallel-specific style estimator block */\n",
       "\n",
       "#sk-container-id-2 div.sk-parallel-item::after {\n",
       "  content: \"\";\n",
       "  width: 100%;\n",
       "  border-bottom: 2px solid var(--sklearn-color-text-on-default-background);\n",
       "  flex-grow: 1;\n",
       "}\n",
       "\n",
       "#sk-container-id-2 div.sk-parallel {\n",
       "  display: flex;\n",
       "  align-items: stretch;\n",
       "  justify-content: center;\n",
       "  background-color: var(--sklearn-color-background);\n",
       "  position: relative;\n",
       "}\n",
       "\n",
       "#sk-container-id-2 div.sk-parallel-item {\n",
       "  display: flex;\n",
       "  flex-direction: column;\n",
       "}\n",
       "\n",
       "#sk-container-id-2 div.sk-parallel-item:first-child::after {\n",
       "  align-self: flex-end;\n",
       "  width: 50%;\n",
       "}\n",
       "\n",
       "#sk-container-id-2 div.sk-parallel-item:last-child::after {\n",
       "  align-self: flex-start;\n",
       "  width: 50%;\n",
       "}\n",
       "\n",
       "#sk-container-id-2 div.sk-parallel-item:only-child::after {\n",
       "  width: 0;\n",
       "}\n",
       "\n",
       "/* Serial-specific style estimator block */\n",
       "\n",
       "#sk-container-id-2 div.sk-serial {\n",
       "  display: flex;\n",
       "  flex-direction: column;\n",
       "  align-items: center;\n",
       "  background-color: var(--sklearn-color-background);\n",
       "  padding-right: 1em;\n",
       "  padding-left: 1em;\n",
       "}\n",
       "\n",
       "\n",
       "/* Toggleable style: style used for estimator/Pipeline/ColumnTransformer box that is\n",
       "clickable and can be expanded/collapsed.\n",
       "- Pipeline and ColumnTransformer use this feature and define the default style\n",
       "- Estimators will overwrite some part of the style using the `sk-estimator` class\n",
       "*/\n",
       "\n",
       "/* Pipeline and ColumnTransformer style (default) */\n",
       "\n",
       "#sk-container-id-2 div.sk-toggleable {\n",
       "  /* Default theme specific background. It is overwritten whether we have a\n",
       "  specific estimator or a Pipeline/ColumnTransformer */\n",
       "  background-color: var(--sklearn-color-background);\n",
       "}\n",
       "\n",
       "/* Toggleable label */\n",
       "#sk-container-id-2 label.sk-toggleable__label {\n",
       "  cursor: pointer;\n",
       "  display: block;\n",
       "  width: 100%;\n",
       "  margin-bottom: 0;\n",
       "  padding: 0.5em;\n",
       "  box-sizing: border-box;\n",
       "  text-align: center;\n",
       "}\n",
       "\n",
       "#sk-container-id-2 label.sk-toggleable__label-arrow:before {\n",
       "  /* Arrow on the left of the label */\n",
       "  content: \"▸\";\n",
       "  float: left;\n",
       "  margin-right: 0.25em;\n",
       "  color: var(--sklearn-color-icon);\n",
       "}\n",
       "\n",
       "#sk-container-id-2 label.sk-toggleable__label-arrow:hover:before {\n",
       "  color: var(--sklearn-color-text);\n",
       "}\n",
       "\n",
       "/* Toggleable content - dropdown */\n",
       "\n",
       "#sk-container-id-2 div.sk-toggleable__content {\n",
       "  max-height: 0;\n",
       "  max-width: 0;\n",
       "  overflow: hidden;\n",
       "  text-align: left;\n",
       "  /* unfitted */\n",
       "  background-color: var(--sklearn-color-unfitted-level-0);\n",
       "}\n",
       "\n",
       "#sk-container-id-2 div.sk-toggleable__content.fitted {\n",
       "  /* fitted */\n",
       "  background-color: var(--sklearn-color-fitted-level-0);\n",
       "}\n",
       "\n",
       "#sk-container-id-2 div.sk-toggleable__content pre {\n",
       "  margin: 0.2em;\n",
       "  border-radius: 0.25em;\n",
       "  color: var(--sklearn-color-text);\n",
       "  /* unfitted */\n",
       "  background-color: var(--sklearn-color-unfitted-level-0);\n",
       "}\n",
       "\n",
       "#sk-container-id-2 div.sk-toggleable__content.fitted pre {\n",
       "  /* unfitted */\n",
       "  background-color: var(--sklearn-color-fitted-level-0);\n",
       "}\n",
       "\n",
       "#sk-container-id-2 input.sk-toggleable__control:checked~div.sk-toggleable__content {\n",
       "  /* Expand drop-down */\n",
       "  max-height: 200px;\n",
       "  max-width: 100%;\n",
       "  overflow: auto;\n",
       "}\n",
       "\n",
       "#sk-container-id-2 input.sk-toggleable__control:checked~label.sk-toggleable__label-arrow:before {\n",
       "  content: \"▾\";\n",
       "}\n",
       "\n",
       "/* Pipeline/ColumnTransformer-specific style */\n",
       "\n",
       "#sk-container-id-2 div.sk-label input.sk-toggleable__control:checked~label.sk-toggleable__label {\n",
       "  color: var(--sklearn-color-text);\n",
       "  background-color: var(--sklearn-color-unfitted-level-2);\n",
       "}\n",
       "\n",
       "#sk-container-id-2 div.sk-label.fitted input.sk-toggleable__control:checked~label.sk-toggleable__label {\n",
       "  background-color: var(--sklearn-color-fitted-level-2);\n",
       "}\n",
       "\n",
       "/* Estimator-specific style */\n",
       "\n",
       "/* Colorize estimator box */\n",
       "#sk-container-id-2 div.sk-estimator input.sk-toggleable__control:checked~label.sk-toggleable__label {\n",
       "  /* unfitted */\n",
       "  background-color: var(--sklearn-color-unfitted-level-2);\n",
       "}\n",
       "\n",
       "#sk-container-id-2 div.sk-estimator.fitted input.sk-toggleable__control:checked~label.sk-toggleable__label {\n",
       "  /* fitted */\n",
       "  background-color: var(--sklearn-color-fitted-level-2);\n",
       "}\n",
       "\n",
       "#sk-container-id-2 div.sk-label label.sk-toggleable__label,\n",
       "#sk-container-id-2 div.sk-label label {\n",
       "  /* The background is the default theme color */\n",
       "  color: var(--sklearn-color-text-on-default-background);\n",
       "}\n",
       "\n",
       "/* On hover, darken the color of the background */\n",
       "#sk-container-id-2 div.sk-label:hover label.sk-toggleable__label {\n",
       "  color: var(--sklearn-color-text);\n",
       "  background-color: var(--sklearn-color-unfitted-level-2);\n",
       "}\n",
       "\n",
       "/* Label box, darken color on hover, fitted */\n",
       "#sk-container-id-2 div.sk-label.fitted:hover label.sk-toggleable__label.fitted {\n",
       "  color: var(--sklearn-color-text);\n",
       "  background-color: var(--sklearn-color-fitted-level-2);\n",
       "}\n",
       "\n",
       "/* Estimator label */\n",
       "\n",
       "#sk-container-id-2 div.sk-label label {\n",
       "  font-family: monospace;\n",
       "  font-weight: bold;\n",
       "  display: inline-block;\n",
       "  line-height: 1.2em;\n",
       "}\n",
       "\n",
       "#sk-container-id-2 div.sk-label-container {\n",
       "  text-align: center;\n",
       "}\n",
       "\n",
       "/* Estimator-specific */\n",
       "#sk-container-id-2 div.sk-estimator {\n",
       "  font-family: monospace;\n",
       "  border: 1px dotted var(--sklearn-color-border-box);\n",
       "  border-radius: 0.25em;\n",
       "  box-sizing: border-box;\n",
       "  margin-bottom: 0.5em;\n",
       "  /* unfitted */\n",
       "  background-color: var(--sklearn-color-unfitted-level-0);\n",
       "}\n",
       "\n",
       "#sk-container-id-2 div.sk-estimator.fitted {\n",
       "  /* fitted */\n",
       "  background-color: var(--sklearn-color-fitted-level-0);\n",
       "}\n",
       "\n",
       "/* on hover */\n",
       "#sk-container-id-2 div.sk-estimator:hover {\n",
       "  /* unfitted */\n",
       "  background-color: var(--sklearn-color-unfitted-level-2);\n",
       "}\n",
       "\n",
       "#sk-container-id-2 div.sk-estimator.fitted:hover {\n",
       "  /* fitted */\n",
       "  background-color: var(--sklearn-color-fitted-level-2);\n",
       "}\n",
       "\n",
       "/* Specification for estimator info (e.g. \"i\" and \"?\") */\n",
       "\n",
       "/* Common style for \"i\" and \"?\" */\n",
       "\n",
       ".sk-estimator-doc-link,\n",
       "a:link.sk-estimator-doc-link,\n",
       "a:visited.sk-estimator-doc-link {\n",
       "  float: right;\n",
       "  font-size: smaller;\n",
       "  line-height: 1em;\n",
       "  font-family: monospace;\n",
       "  background-color: var(--sklearn-color-background);\n",
       "  border-radius: 1em;\n",
       "  height: 1em;\n",
       "  width: 1em;\n",
       "  text-decoration: none !important;\n",
       "  margin-left: 1ex;\n",
       "  /* unfitted */\n",
       "  border: var(--sklearn-color-unfitted-level-1) 1pt solid;\n",
       "  color: var(--sklearn-color-unfitted-level-1);\n",
       "}\n",
       "\n",
       ".sk-estimator-doc-link.fitted,\n",
       "a:link.sk-estimator-doc-link.fitted,\n",
       "a:visited.sk-estimator-doc-link.fitted {\n",
       "  /* fitted */\n",
       "  border: var(--sklearn-color-fitted-level-1) 1pt solid;\n",
       "  color: var(--sklearn-color-fitted-level-1);\n",
       "}\n",
       "\n",
       "/* On hover */\n",
       "div.sk-estimator:hover .sk-estimator-doc-link:hover,\n",
       ".sk-estimator-doc-link:hover,\n",
       "div.sk-label-container:hover .sk-estimator-doc-link:hover,\n",
       ".sk-estimator-doc-link:hover {\n",
       "  /* unfitted */\n",
       "  background-color: var(--sklearn-color-unfitted-level-3);\n",
       "  color: var(--sklearn-color-background);\n",
       "  text-decoration: none;\n",
       "}\n",
       "\n",
       "div.sk-estimator.fitted:hover .sk-estimator-doc-link.fitted:hover,\n",
       ".sk-estimator-doc-link.fitted:hover,\n",
       "div.sk-label-container:hover .sk-estimator-doc-link.fitted:hover,\n",
       ".sk-estimator-doc-link.fitted:hover {\n",
       "  /* fitted */\n",
       "  background-color: var(--sklearn-color-fitted-level-3);\n",
       "  color: var(--sklearn-color-background);\n",
       "  text-decoration: none;\n",
       "}\n",
       "\n",
       "/* Span, style for the box shown on hovering the info icon */\n",
       ".sk-estimator-doc-link span {\n",
       "  display: none;\n",
       "  z-index: 9999;\n",
       "  position: relative;\n",
       "  font-weight: normal;\n",
       "  right: .2ex;\n",
       "  padding: .5ex;\n",
       "  margin: .5ex;\n",
       "  width: min-content;\n",
       "  min-width: 20ex;\n",
       "  max-width: 50ex;\n",
       "  color: var(--sklearn-color-text);\n",
       "  box-shadow: 2pt 2pt 4pt #999;\n",
       "  /* unfitted */\n",
       "  background: var(--sklearn-color-unfitted-level-0);\n",
       "  border: .5pt solid var(--sklearn-color-unfitted-level-3);\n",
       "}\n",
       "\n",
       ".sk-estimator-doc-link.fitted span {\n",
       "  /* fitted */\n",
       "  background: var(--sklearn-color-fitted-level-0);\n",
       "  border: var(--sklearn-color-fitted-level-3);\n",
       "}\n",
       "\n",
       ".sk-estimator-doc-link:hover span {\n",
       "  display: block;\n",
       "}\n",
       "\n",
       "/* \"?\"-specific style due to the `<a>` HTML tag */\n",
       "\n",
       "#sk-container-id-2 a.estimator_doc_link {\n",
       "  float: right;\n",
       "  font-size: 1rem;\n",
       "  line-height: 1em;\n",
       "  font-family: monospace;\n",
       "  background-color: var(--sklearn-color-background);\n",
       "  border-radius: 1rem;\n",
       "  height: 1rem;\n",
       "  width: 1rem;\n",
       "  text-decoration: none;\n",
       "  /* unfitted */\n",
       "  color: var(--sklearn-color-unfitted-level-1);\n",
       "  border: var(--sklearn-color-unfitted-level-1) 1pt solid;\n",
       "}\n",
       "\n",
       "#sk-container-id-2 a.estimator_doc_link.fitted {\n",
       "  /* fitted */\n",
       "  border: var(--sklearn-color-fitted-level-1) 1pt solid;\n",
       "  color: var(--sklearn-color-fitted-level-1);\n",
       "}\n",
       "\n",
       "/* On hover */\n",
       "#sk-container-id-2 a.estimator_doc_link:hover {\n",
       "  /* unfitted */\n",
       "  background-color: var(--sklearn-color-unfitted-level-3);\n",
       "  color: var(--sklearn-color-background);\n",
       "  text-decoration: none;\n",
       "}\n",
       "\n",
       "#sk-container-id-2 a.estimator_doc_link.fitted:hover {\n",
       "  /* fitted */\n",
       "  background-color: var(--sklearn-color-fitted-level-3);\n",
       "}\n",
       "</style><div id=\"sk-container-id-2\" class=\"sk-top-container\"><div class=\"sk-text-repr-fallback\"><pre>RandomForestClassifier(random_state=0)</pre><b>In a Jupyter environment, please rerun this cell to show the HTML representation or trust the notebook. <br />On GitHub, the HTML representation is unable to render, please try loading this page with nbviewer.org.</b></div><div class=\"sk-container\" hidden><div class=\"sk-item\"><div class=\"sk-estimator fitted sk-toggleable\"><input class=\"sk-toggleable__control sk-hidden--visually\" id=\"sk-estimator-id-4\" type=\"checkbox\" checked><label for=\"sk-estimator-id-4\" class=\"sk-toggleable__label fitted sk-toggleable__label-arrow fitted\">&nbsp;&nbsp;RandomForestClassifier<a class=\"sk-estimator-doc-link fitted\" rel=\"noreferrer\" target=\"_blank\" href=\"https://scikit-learn.org/1.4/modules/generated/sklearn.ensemble.RandomForestClassifier.html\">?<span>Documentation for RandomForestClassifier</span></a><span class=\"sk-estimator-doc-link fitted\">i<span>Fitted</span></span></label><div class=\"sk-toggleable__content fitted\"><pre>RandomForestClassifier(random_state=0)</pre></div> </div></div></div></div>"
      ],
      "text/plain": [
       "RandomForestClassifier(random_state=0)"
      ]
     },
     "execution_count": 159,
     "metadata": {},
     "output_type": "execute_result"
    }
   ],
   "source": [
    "grid.best_estimator_"
   ]
  },
  {
   "cell_type": "markdown",
   "id": "3ed653a2-e23d-424e-93da-3ae1aa63e46f",
   "metadata": {},
   "source": [
    "## Serialize"
   ]
  },
  {
   "cell_type": "code",
   "execution_count": 162,
   "id": "b773717e-c1da-4f4b-8fdf-f3904bc2d3ca",
   "metadata": {},
   "outputs": [],
   "source": [
    "import joblib"
   ]
  },
  {
   "cell_type": "code",
   "execution_count": 164,
   "id": "5181efc6-5bcf-418b-ac1f-9e1e1bbaa1bc",
   "metadata": {},
   "outputs": [
    {
     "data": {
      "text/plain": [
       "['rf_classifier.pkl']"
      ]
     },
     "execution_count": 164,
     "metadata": {},
     "output_type": "execute_result"
    }
   ],
   "source": [
    "# save the model\n",
    "\n",
    "joblib.dump(grid, 'rf_classifier.pkl')"
   ]
  },
  {
   "cell_type": "code",
   "execution_count": 166,
   "id": "12be3287-9f43-4425-86cb-fb647c643c6f",
   "metadata": {},
   "outputs": [
    {
     "data": {
      "text/plain": [
       "['rf_scaler.pkl']"
      ]
     },
     "execution_count": 166,
     "metadata": {},
     "output_type": "execute_result"
    }
   ],
   "source": [
    "joblib.dump(scaler, 'rf_scaler.pkl')"
   ]
  },
  {
   "cell_type": "code",
   "execution_count": 168,
   "id": "2a548ae8-6c37-4bcd-a55c-badb29b551b2",
   "metadata": {},
   "outputs": [
    {
     "data": {
      "text/plain": [
       "Index(['COLOR_INTENSITY', 'FLAVANOIDS', 'PROLINE', 'TEMPERATURE',\n",
       "       'FER_P2O5_PER'],\n",
       "      dtype='object')"
      ]
     },
     "execution_count": 168,
     "metadata": {},
     "output_type": "execute_result"
    }
   ],
   "source": [
    "x.columns"
   ]
  },
  {
   "cell_type": "code",
   "execution_count": 170,
   "id": "c57f9f71-cc7b-435d-9bb5-8e8699e0d8a4",
   "metadata": {},
   "outputs": [
    {
     "data": {
      "text/html": [
       "<div>\n",
       "<style scoped>\n",
       "    .dataframe tbody tr th:only-of-type {\n",
       "        vertical-align: middle;\n",
       "    }\n",
       "\n",
       "    .dataframe tbody tr th {\n",
       "        vertical-align: top;\n",
       "    }\n",
       "\n",
       "    .dataframe thead th {\n",
       "        text-align: right;\n",
       "    }\n",
       "</style>\n",
       "<table border=\"1\" class=\"dataframe\">\n",
       "  <thead>\n",
       "    <tr style=\"text-align: right;\">\n",
       "      <th></th>\n",
       "      <th>COLOR_INTENSITY</th>\n",
       "      <th>FLAVANOIDS</th>\n",
       "      <th>PROLINE</th>\n",
       "      <th>TEMPERATURE</th>\n",
       "      <th>FER_P2O5_PER</th>\n",
       "    </tr>\n",
       "  </thead>\n",
       "  <tbody>\n",
       "    <tr>\n",
       "      <th>0</th>\n",
       "      <td>120.530000</td>\n",
       "      <td>3.060000</td>\n",
       "      <td>1065</td>\n",
       "      <td>23.340000</td>\n",
       "      <td>52.020000</td>\n",
       "    </tr>\n",
       "    <tr>\n",
       "      <th>1</th>\n",
       "      <td>112.570000</td>\n",
       "      <td>2.760000</td>\n",
       "      <td>1050</td>\n",
       "      <td>23.400000</td>\n",
       "      <td>48.180000</td>\n",
       "    </tr>\n",
       "    <tr>\n",
       "      <th>2</th>\n",
       "      <td>120.780000</td>\n",
       "      <td>3.240000</td>\n",
       "      <td>1185</td>\n",
       "      <td>22.290000</td>\n",
       "      <td>28.150000</td>\n",
       "    </tr>\n",
       "    <tr>\n",
       "      <th>3</th>\n",
       "      <td>112.190000</td>\n",
       "      <td>2.690000</td>\n",
       "      <td>735</td>\n",
       "      <td>23.760000</td>\n",
       "      <td>55.990000</td>\n",
       "    </tr>\n",
       "    <tr>\n",
       "      <th>4</th>\n",
       "      <td>127.540000</td>\n",
       "      <td>3.390000</td>\n",
       "      <td>1450</td>\n",
       "      <td>22.230000</td>\n",
       "      <td>39.860000</td>\n",
       "    </tr>\n",
       "    <tr>\n",
       "      <th>...</th>\n",
       "      <td>...</td>\n",
       "      <td>...</td>\n",
       "      <td>...</td>\n",
       "      <td>...</td>\n",
       "      <td>...</td>\n",
       "    </tr>\n",
       "    <tr>\n",
       "      <th>211</th>\n",
       "      <td>112.648155</td>\n",
       "      <td>1.200786</td>\n",
       "      <td>629</td>\n",
       "      <td>29.090610</td>\n",
       "      <td>34.628683</td>\n",
       "    </tr>\n",
       "    <tr>\n",
       "      <th>212</th>\n",
       "      <td>110.941201</td>\n",
       "      <td>0.552758</td>\n",
       "      <td>830</td>\n",
       "      <td>29.087972</td>\n",
       "      <td>34.824287</td>\n",
       "    </tr>\n",
       "    <tr>\n",
       "      <th>213</th>\n",
       "      <td>143.461402</td>\n",
       "      <td>0.985701</td>\n",
       "      <td>556</td>\n",
       "      <td>32.188069</td>\n",
       "      <td>34.548222</td>\n",
       "    </tr>\n",
       "    <tr>\n",
       "      <th>214</th>\n",
       "      <td>146.706029</td>\n",
       "      <td>0.685766</td>\n",
       "      <td>675</td>\n",
       "      <td>31.922577</td>\n",
       "      <td>43.009486</td>\n",
       "    </tr>\n",
       "    <tr>\n",
       "      <th>215</th>\n",
       "      <td>115.673632</td>\n",
       "      <td>0.584110</td>\n",
       "      <td>515</td>\n",
       "      <td>31.855000</td>\n",
       "      <td>47.341793</td>\n",
       "    </tr>\n",
       "  </tbody>\n",
       "</table>\n",
       "<p>216 rows × 5 columns</p>\n",
       "</div>"
      ],
      "text/plain": [
       "     COLOR_INTENSITY  FLAVANOIDS  PROLINE  TEMPERATURE  FER_P2O5_PER\n",
       "0         120.530000    3.060000     1065    23.340000     52.020000\n",
       "1         112.570000    2.760000     1050    23.400000     48.180000\n",
       "2         120.780000    3.240000     1185    22.290000     28.150000\n",
       "3         112.190000    2.690000      735    23.760000     55.990000\n",
       "4         127.540000    3.390000     1450    22.230000     39.860000\n",
       "..               ...         ...      ...          ...           ...\n",
       "211       112.648155    1.200786      629    29.090610     34.628683\n",
       "212       110.941201    0.552758      830    29.087972     34.824287\n",
       "213       143.461402    0.985701      556    32.188069     34.548222\n",
       "214       146.706029    0.685766      675    31.922577     43.009486\n",
       "215       115.673632    0.584110      515    31.855000     47.341793\n",
       "\n",
       "[216 rows x 5 columns]"
      ]
     },
     "execution_count": 170,
     "metadata": {},
     "output_type": "execute_result"
    }
   ],
   "source": [
    "x"
   ]
  },
  {
   "cell_type": "code",
   "execution_count": null,
   "id": "e3bf72ea-86b0-401d-b32b-6d194e040985",
   "metadata": {},
   "outputs": [],
   "source": []
  }
 ],
 "metadata": {
  "kernelspec": {
   "display_name": "Python 3 (ipykernel)",
   "language": "python",
   "name": "python3"
  },
  "language_info": {
   "codemirror_mode": {
    "name": "ipython",
    "version": 3
   },
   "file_extension": ".py",
   "mimetype": "text/x-python",
   "name": "python",
   "nbconvert_exporter": "python",
   "pygments_lexer": "ipython3",
   "version": "3.12.4"
  }
 },
 "nbformat": 4,
 "nbformat_minor": 5
}
